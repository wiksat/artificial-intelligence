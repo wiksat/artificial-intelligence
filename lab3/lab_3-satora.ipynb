{
   "cells": [
      {
         "cell_type": "markdown",
         "metadata": {},
         "source": [
            "# Sieci neuronowe"
         ]
      },
      {
         "cell_type": "markdown",
         "metadata": {},
         "source": [
            "## Wstęp\n",
            "\n",
            "Celem laboratorium jest zapoznanie się z podstawami sieci neuronowych oraz uczeniem głębokim (*deep learning*). Zapoznasz się na nim z następującymi tematami:\n",
            "- treningiem prostych sieci neuronowych, w szczególności z:\n",
            "  - regresją liniową w sieciach neuronowych\n",
            "  - optymalizacją funkcji kosztu\n",
            "  - algorytmem spadku wzdłuż gradientu\n",
            "  - siecią typu Multilayer Perceptron (MLP)\n",
            "- frameworkiem PyTorch, w szczególności z:\n",
            "  - ładowaniem danych\n",
            "  - preprocessingiem danych\n",
            "  - pisaniem pętli treningowej i walidacyjnej\n",
            "  - walidacją modeli\n",
            "- architekturą i hiperaprametrami sieci MLP, w szczególności z:\n",
            "  - warstwami gęstymi (w pełni połączonymi)\n",
            "  - funkcjami aktywacji\n",
            "  - regularyzacją: L2, dropout"
         ]
      },
      {
         "cell_type": "markdown",
         "metadata": {},
         "source": [
            "## Wykorzystywane biblioteki\n",
            "\n",
            "Zaczniemy od pisania ręcznie prostych sieci w bibliotece Numpy, służącej do obliczeń numerycznych na CPU. Później przejdziemy do wykorzystywania frameworka PyTorch, służącego do obliczeń numerycznych na CPU, GPU oraz automatycznego różniczkowania, wykorzystywanego głównie do treningu sieci neuronowych.\n",
            "\n",
            "Wykorzystamy PyTorcha ze względu na popularność, łatwość instalacji i użycia, oraz dużą kontrolę nad niskopoziomowymi aspektami budowy i treningu sieci neuronowych. Framework ten został stworzony do zastosowań badawczych i naukowych, ale ze względu na wygodę użycia stał się bardzo popularny także w przemyśle. W szczególności całkowicie zdominował przetwarzanie języka naturalnego (NLP) oraz uczenie na grafach.\n",
            "\n",
            "Pierwszy duży framework do deep learningu, oraz obecnie najpopularniejszy, to TensorFlow, wraz z wysokopoziomową nakładką Keras. Są jednak szanse, że Google (autorzy) będzie go powoli porzucać na rzecz ich nowego frameworka JAX ([dyskusja](https://www.reddit.com/r/MachineLearning/comments/vfl57t/d_google_quietly_moving_its_products_from/), [artykuł Business Insidera](https://www.businessinsider.com/facebook-pytorch-beat-google-tensorflow-jax-meta-ai-2022-6?IR=T)), który jest bardzo świeżym, ale ciekawym narzędziem.\n",
            "\n",
            "Trzecia, ale znacznie mniej popularna od powyższych opcja to Apache MXNet."
         ]
      },
      {
         "cell_type": "markdown",
         "metadata": {},
         "source": [
            "## Konfiguracja własnego komputera\n",
            "\n",
            "Jeżeli korzystasz z własnego komputera, to musisz zainstalować trochę więcej bibliotek (Google Colab ma je już zainstalowane).\n",
            "\n",
            "Jeżeli nie masz GPU lub nie chcesz z niego korzystać, to wystarczy znaleźć odpowiednią komendę CPU [na stronie PyTorcha](https://pytorch.org/get-started/locally/). Dla Anacondy odpowiednia komenda została podana poniżej, dla pip'a znajdź ją na stronie.\n",
            "\n",
            "Jeżeli chcesz korzystać ze wsparcia GPU (na tym laboratorium nie będzie potrzebne, na kolejnych może przyspieszyć nieco obliczenia), to musi być to odpowiednio nowa karta NVidii, mająca CUDA compatibility ([lista](https://developer.nvidia.com/cuda-gpus)). Poza PyTorchem będzie potrzebne narzędzie NVidia CUDA w wersji 11.6 lub 11.7. Instalacja na Windowsie jest bardzo prosta (wystarczy ściągnąć plik EXE i zainstalować jak każdy inny program). Instalacja na Linuxie jest trudna i można względnie łatwo zepsuć sobie system, ale jeżeli chcesz spróbować, to [ten tutorial](https://www.youtube.com/results?search_query=nvidia+cuda+install+ubuntu+20.04) jest bardzo dobry."
         ]
      },
      {
         "cell_type": "code",
         "execution_count": 158,
         "metadata": {},
         "outputs": [],
         "source": [
            "# for conda users\n",
            "#!conda install -y matplotlib pandas pytorch torchvision -c pytorch -c conda-forge"
         ]
      },
      {
         "cell_type": "markdown",
         "metadata": {
            "id": "Othm3C2lLAsj"
         },
         "source": [
            "## Wprowadzenie\n",
            "\n",
            "Zanim zaczniemy naszą przygodę z sieciami neuronowymi, przyjrzyjmy się prostemu przykładowi regresji liniowej na syntetycznych danych:"
         ]
      },
      {
         "cell_type": "code",
         "execution_count": 159,
         "metadata": {
            "id": "rnJsfxbnLAsj"
         },
         "outputs": [],
         "source": [
            "from typing import Tuple, Dict\n",
            "\n",
            "import numpy as np\n",
            "import matplotlib.pyplot as plt"
         ]
      },
      {
         "cell_type": "code",
         "execution_count": 160,
         "metadata": {
            "colab": {
               "base_uri": "https://localhost:8080/",
               "height": 282
            },
            "id": "EaYpEXzBLAsl",
            "outputId": "2f8d2922-72f0-4d38-8548-d1262adf522e"
         },
         "outputs": [
            {
               "data": {
                  "text/plain": [
                     "<matplotlib.collections.PathCollection at 0x2d19fa5c0>"
                  ]
               },
               "execution_count": 160,
               "metadata": {},
               "output_type": "execute_result"
            },
            {
               "data": {
                  "image/png": "[encoded data removed]",
                  "text/plain": [
                     "<Figure size 640x480 with 1 Axes>"
                  ]
               },
               "metadata": {},
               "output_type": "display_data"
            }
         ],
         "source": [
            "np.random.seed(0)\n",
            "\n",
            "x = np.linspace(0, 1, 100)\n",
            "y = x + np.random.normal(scale=0.1, size=x.shape)\n",
            "\n",
            "plt.scatter(x, y)"
         ]
      },
      {
         "cell_type": "markdown",
         "metadata": {
            "id": "PEM_-yKELAsl"
         },
         "source": [
            "W przeciwieństwie do laboratorium 1, tym razem będziemy chcieli rozwiązać ten problem własnoręcznie, bez użycia wysokopoziomowego interfejsu Scikit-learn'a. W tym celu musimy sobie przypomnieć sformułowanie naszego **problemu optymalizacyjnego (optimization problem)**.\n",
            "\n",
            "W przypadku prostej regresji liniowej (1 zmienna) mamy model postaci $\\hat{y} = \\alpha x + \\beta$, z dwoma parametrami, których będziemy się uczyć. Miarą niedopasowania modelu o danych parametrach jest **funkcja kosztu (cost function)**, nazywana też funkcją celu. Najczęściej używa się **błędu średniokwadratowego (mean squared error, MSE)**:\n",
            "$$\\large\n",
            "MSE = \\frac{1}{N} \\sum_{i}^{N} (y - \\hat{y})^2\n",
            "$$\n",
            "\n",
            "Od jakich $\\alpha$ i $\\beta$ zacząć? W najprostszym wypadku wystarczy po prostu je wylosować jako niewielkie liczby zmiennoprzecinkowe.\n",
            "\n",
            "#### Zadanie 1 (0.5 punkt)\n",
            "\n",
            "Uzupełnij kod funkcji `mse`, obliczającej błąd średniokwadratowy. Wykorzystaj Numpy'a w celu wektoryzacji obliczeń dla wydajności."
         ]
      },
      {
         "cell_type": "code",
         "execution_count": 161,
         "metadata": {
            "colab": {
               "base_uri": "https://localhost:8080/"
            },
            "id": "RaA7Q46TLAsm",
            "outputId": "5c57fe58-1934-4d21-9a7b-d14e9a23140b"
         },
         "outputs": [],
         "source": [
            "def mse(y: np.ndarray, y_hat: np.ndarray) -> float:\n",
            "    return np.mean((y - y_hat) ** 2)\n"
         ]
      },
      {
         "cell_type": "code",
         "execution_count": 162,
         "metadata": {
            "colab": {
               "base_uri": "https://localhost:8080/",
               "height": 282
            },
            "id": "qSGfamGbLAsm",
            "outputId": "733ce15f-ae75-466b-e7ee-eb3c9d9d534c"
         },
         "outputs": [
            {
               "name": "stdout",
               "output_type": "stream",
               "text": [
                  "MSE: 0.133\n"
               ]
            },
            {
               "data": {
                  "text/plain": [
                     "[<matplotlib.lines.Line2D at 0x2d14961d0>]"
                  ]
               },
               "execution_count": 162,
               "metadata": {},
               "output_type": "execute_result"
            },
            {
               "data": {
                  "image/png": "[encoded data removed]",
                  "text/plain": [
                     "<Figure size 640x480 with 1 Axes>"
                  ]
               },
               "metadata": {},
               "output_type": "display_data"
            }
         ],
         "source": [
            "a = np.random.rand()\n",
            "b = np.random.rand()\n",
            "print(f\"MSE: {mse(y, a * x + b):.3f}\")\n",
            "\n",
            "plt.scatter(x, y)\n",
            "plt.plot(x, a * x + b, color=\"g\", linewidth=4)"
         ]
      },
      {
         "cell_type": "markdown",
         "metadata": {
            "id": "Y--E9Mp9LAsn"
         },
         "source": [
            "Losowe parametry radzą sobie nie najlepiej. Jak lepiej dopasować naszą prostą do danych? Zawsze możemy starać się wyprowadzić rozwiązanie analitycznie, i w tym wypadku nawet nam się uda. Jest to jednak szczególny i dość rzadki przypadek, a w szczególności nie będzie to możliwe w większych sieciach neuronowych.\n",
            "\n",
            "Potrzebna nam będzie **metoda optymalizacji (optimization method)**, dającą wartości parametrów minimalizujące dowolną różniczkowalną funkcję kosztu. Zdecydowanie najpopularniejszy jest tutaj **spadek wzdłuż gradientu (gradient descent)**.\n",
            "\n",
            "Metoda ta wywodzi się z prostych obserwacji, które tutaj przedstawimy. Bardziej szczegółowe rozwinięcie dla zainteresowanych: [sekcja 4.3 \"Deep Learning Book\"](https://www.deeplearningbook.org/contents/numerical.html), [ten praktyczny kurs](https://cs231n.github.io/optimization-1/), [analiza oryginalnej publikacji Cauchy'ego](https://www.math.uni-bielefeld.de/documenta/vol-ismp/40_lemarechal-claude.pdf) (oryginał w języku francuskim).\n",
            "\n",
            "Pochodna jest dokładnie równa granicy funkcji. Dla małego $\\epsilon$ można ją przybliżyć jako:\n",
            "$$\\large\n",
            "\\frac{f(x)}{dx} \\approx \\frac{f(x+\\epsilon) - f(x)}{\\epsilon}\n",
            "$$\n",
            "\n",
            "Przyglądając się temu równaniu widzimy, że: \n",
            "* dla funkcji rosnącej ($f(x+\\epsilon) > f(x)$) wyrażenie $\\frac{f(x)}{dx}$ będzie miało znak dodatni \n",
            "* dla funkcji malejącej ($f(x+\\epsilon) < f(x)$) wyrażenie $\\frac{f(x)}{dx}$ będzie miało znak ujemny \n",
            "\n",
            "Widzimy więc, że potrafimy wskazać kierunek zmniejszenia wartości funkcji, patrząc na znak pochodnej. Zaobserwowano także, że amplituda wartości w $\\frac{f(x)}{dx}$ jest tym większa, im dalej jesteśmy od minimum (maximum). Pochodna wyznacza więc, w jakim kierunku funkcja najszybciej rośnie, zaś przeciwny zwrot to ten, w którym funkcja najszybciej spada.\n",
            "\n",
            "Stosując powyższe do optymalizacji, mamy:\n",
            "$$\\large\n",
            "x_{t+1} = x_{t} -  \\alpha * \\frac{f(x)}{dx}\n",
            "$$\n",
            "\n",
            "$\\alpha$ to niewielka wartość (rzędu zwykle $10^{-5}$ - $10^{-2}$), wprowadzona, aby trzymać się założenia o małej zmianie parametrów ($\\epsilon$). Nazywa się ją **stałą uczącą (learning rate)** i jest zwykle najważniejszym hiperparametrem podczas nauki sieci.\n",
            "\n",
            "Metoda ta zakłada, że używamy całego zbioru danych do aktualizacji parametrów w każdym kroku, co nazywa się po prostu GD (od *gradient descent*) albo *full batch GD*. Wtedy każdy krok optymalizacji nazywa się **epoką (epoch)**.\n",
            "\n",
            "Im większa stała ucząca, tym większe nasze kroki podczas minimalizacji. Możemy więc uczyć szybciej, ale istnieje ryzyko, że będziemy \"przeskakiwać\" minima. Mniejsza stała ucząca to wolniejszy, ale dokładniejszy trening. Jednak nie zawsze ona pozwala osiągnąć lepsze wyniki, bo może okazać się, że utkniemy w minimum lokalnym. Można także zmieniać stałą uczącą podczas treningu, co nazywa się **learning rate scheduling (LR scheduling)**. Obrazowo:\n",
            "\n",
            "![learning_rate](http://www.bdhammel.com/assets/learning-rate/lr-types.png)"
         ]
      },
      {
         "cell_type": "markdown",
         "metadata": {
            "id": "496qEjkVLAso"
         },
         "source": [
            "![interactive LR](http://cdn-images-1.medium.com/max/640/1*eeIvlwkMNG1wSmj3FR6M2g.gif)"
         ]
      },
      {
         "cell_type": "markdown",
         "metadata": {
            "id": "RYkyAHKzLAsp"
         },
         "source": [
            "Policzmy więc pochodną dla naszej funkcji kosztu MSE. Pochodną liczymy po parametrach naszego modelu, bo to właśnie ich chcemy dopasować tak, żeby koszt był jak najmniejszy:\n",
            "\n",
            "$$\\large\n",
            "MSE = \\frac{1}{N} \\sum_{i}^{N} (y_i - \\hat{y_i})^2\n",
            "$$\n",
            "\n",
            "W powyższym wzorze tylko $y_i$ jest zależny od $a$ oraz $b$. Możemy wykorzystać tu regułę łańcuchową (*chain rule*) i policzyć pochodne po naszych parametrach w sposób następujący:\n",
            "\n",
            "$$\\large\n",
            "\\frac{\\text{d} MSE}{\\text{d} a} = \\frac{1}{N} \\sum_{i}^{N} \\frac{\\text{d} (y_i - \\hat{y_i})^2}{\\text{d} \\hat{y_i}} \\frac{\\text{d} \\hat{y_i}}{\\text{d} a}\n",
            "$$\n",
            "\n",
            "$$\\large\n",
            "\\frac{\\text{d} MSE}{\\text{d} b} = \\frac{1}{N} \\sum_{i}^{N} \\frac{\\text{d} (y_i - \\hat{y_i})^2}{\\text{d} \\hat{y_i}} \\frac{\\text{d} \\hat{y_i}}{\\text{d} b}\n",
            "$$\n",
            "\n",
            "Policzmy te pochodne po kolei:\n",
            "\n",
            "$$\\large\n",
            "\\frac{\\text{d} (y_i - \\hat{y_i})^2}{\\text{d} \\hat{y_i}} = -2 \\cdot (y_i - \\hat{y_i})\n",
            "$$\n",
            "\n",
            "$$\\large\n",
            "\\frac{\\text{d} \\hat{y_i}}{\\text{d} a} = x_i\n",
            "$$\n",
            "\n",
            "$$\\large\n",
            "\\frac{\\text{d} \\hat{y_i}}{\\text{d} b} = 1\n",
            "$$\n",
            "\n",
            "Łącząc powyższe wyniki dostaniemy:\n",
            "\n",
            "$$\\large\n",
            "\\frac{\\text{d} MSE}{\\text{d} a} = \\frac{-2}{N} \\sum_{i}^{N} (y_i - \\hat{y_i}) \\cdot {x_i}\n",
            "$$\n",
            "\n",
            "$$\\large\n",
            "\\frac{\\text{d} MSE}{\\text{d} b} = \\frac{-2}{N} \\sum_{i}^{N} (y_i - \\hat{y_i})\n",
            "$$\n",
            "\n",
            "Aktualizacja parametrów wygląda tak:\n",
            "\n",
            "$$\\large\n",
            "a' = a - \\alpha * \\left( \\frac{-2}{N} \\sum_{i=1}^N (y_i - \\hat{y}_i) \\cdot x_i \\right)\n",
            "$$\n",
            "$$\\large\n",
            "b' = b - \\alpha * \\left( \\frac{-2}{N} \\sum_{i=1}^N (y_i - \\hat{y}_i) \\right)\n",
            "$$\n",
            "\n",
            "Liczymy więc pochodną funkcji kosztu, a potem za pomocą reguły łańcuchowej \"cofamy się\", dochodząc do tego, jak każdy z parametrów wpływa na błąd i w jaki sposób powinniśmy go zmienić. Nazywa się to **propagacją wsteczną (backpropagation)** i jest podstawowym mechanizmem umożliwiającym naukę sieci neuronowych za pomocą spadku wzdłuż gradientu. Więcej możesz o tym przeczytać [tutaj](https://cs231n.github.io/optimization-2/)."
         ]
      },
      {
         "cell_type": "markdown",
         "metadata": {},
         "source": [
            "\n",
            "#### Zadanie 2 (1.0 punkt)\n",
            "\n",
            "Zaimplementuj funkcję realizującą jedną epokę treningową. Zauważ, że `x` oraz `y` są wektorami. Oblicz predykcję przy aktualnych parametrach oraz zaktualizuj je zgodnie z powyższymi wzorami."
         ]
      },
      {
         "cell_type": "code",
         "execution_count": 163,
         "metadata": {
            "colab": {
               "base_uri": "https://localhost:8080/"
            },
            "id": "4qbdWOSULAsp",
            "outputId": "055607ae-87aa-470a-e6da-25682c82d470"
         },
         "outputs": [],
         "source": [
            "def optimize(\n",
            "    x: np.ndarray, y: np.ndarray, a: float, b: float, learning_rate: float = 0.1\n",
            "):\n",
            "    y_hat = a * x + b\n",
            "    errors = y - y_hat\n",
            "    y_hat = a * x + b\n",
            "    errors = y - y_hat\n",
            "    a = a - learning_rate * (-2 / len(x)) * np.sum(errors * x)\n",
            "    b = b - learning_rate * (-2 / len(x)) * np.sum(errors)\n",
            "    return a, b\n"
         ]
      },
      {
         "cell_type": "code",
         "execution_count": 164,
         "metadata": {},
         "outputs": [
            {
               "name": "stdout",
               "output_type": "stream",
               "text": [
                  "step 0 loss:  0.1330225119404028\n",
                  "step 100 loss:  0.012673197778527677\n",
                  "step 200 loss:  0.010257153540857817\n",
                  "step 300 loss:  0.0100948037549359\n",
                  "step 400 loss:  0.010083894412889118\n",
                  "step 500 loss:  0.010083161342973332\n",
                  "step 600 loss:  0.010083112083219709\n",
                  "step 700 loss:  0.010083108773135261\n",
                  "step 800 loss:  0.010083108550709076\n",
                  "step 900 loss:  0.01008310853576281\n",
                  "final loss: 0.010083108534760455\n"
               ]
            }
         ],
         "source": [
            "for i in range(1000):\n",
            "    loss = mse(y, a * x + b)\n",
            "    a, b = optimize(x, y, a, b)\n",
            "    if i % 100 == 0:\n",
            "        print(f\"step {i} loss: \", loss)\n",
            "\n",
            "print(\"final loss:\", loss)"
         ]
      },
      {
         "cell_type": "code",
         "execution_count": 165,
         "metadata": {
            "colab": {
               "base_uri": "https://localhost:8080/",
               "height": 282
            },
            "id": "xOgRcPC1LAsq",
            "outputId": "85b0b3e4-aa0d-467a-d8ff-5f01be17b243",
            "scrolled": false
         },
         "outputs": [
            {
               "data": {
                  "text/plain": [
                     "[<matplotlib.lines.Line2D at 0x2d14fd4e0>]"
                  ]
               },
               "execution_count": 165,
               "metadata": {},
               "output_type": "execute_result"
            },
            {
               "data": {
                  "image/png": "[encoded data removed]",
                  "text/plain": [
                     "<Figure size 640x480 with 1 Axes>"
                  ]
               },
               "metadata": {},
               "output_type": "display_data"
            }
         ],
         "source": [
            "plt.scatter(x, y)\n",
            "plt.plot(x, a * x + b, color=\"g\", linewidth=4)"
         ]
      },
      {
         "cell_type": "markdown",
         "metadata": {
            "id": "vOr2fWYpLAsq"
         },
         "source": [
            "Udało ci się wytrenować swoją pierwszą sieć neuronową. Czemu? Otóż neuron to po prostu wektor parametrów, a zwykle robimy iloczyn skalarny tych parametrów z wejściem. Dodatkowo na wyjście nakłada się **funkcję aktywacji (activation function)**, która przekształca wyjście. Tutaj takiej nie było, a właściwie była to po prostu funkcja identyczności.\n",
            "\n",
            "Oczywiście w praktyce korzystamy z odpowiedniego frameworka, który w szczególności:\n",
            "- ułatwia budowanie sieci, np. ma gotowe klasy dla warstw neuronów\n",
            "- ma zaimplementowane funkcje kosztu oraz ich pochodne\n",
            "- sam różniczkuje ze względu na odpowiednie parametry i aktualizuje je odpowiednio podczas treningu\n"
         ]
      },
      {
         "cell_type": "markdown",
         "metadata": {
            "id": "NJBYJabuLAsr"
         },
         "source": [
            "## Wprowadzenie do PyTorcha"
         ]
      },
      {
         "cell_type": "markdown",
         "metadata": {
            "id": "EB-99XqhLAsr"
         },
         "source": [
            "PyTorch to w gruncie rzeczy narzędzie do algebry liniowej z [automatycznym rożniczkowaniem](https://pytorch.org/tutorials/beginner/blitz/autograd_tutorial.html), z możliwością przyspieszenia obliczeń z pomocą GPU. Na tych fundamentach zbudowany jest pełny framework do uczenia głębokiego. Można spotkać się ze stwierdzenie, że PyTorch to NumPy + GPU + opcjonalne różniczkowanie, co jest całkiem celne. Plus można łatwo debugować printem :)\n",
            "\n",
            "PyTorch używa dynamicznego grafu obliczeń, który sami definiujemy w kodzie. Takie podejście jest bardzo wygodne, elastyczne i pozwala na łatwe eksperymentowanie. Odbywa się to potencjalnie kosztem wydajności, ponieważ pozostawia kwestię optymalizacji programiście. Więcej na ten temat dla zainteresowanych na końcu laboratorium.\n",
            "\n",
            "Samo API PyTorcha bardzo przypomina Numpy'a, a podstawowym obiektem jest `Tensor`, klasa reprezentująca tensory dowolnego wymiaru. Dodatkowo niektóre tensory będą miały automatycznie obliczony gradient. Co ważne, tensor jest na pewnym urządzeniu, CPU lub GPU, a przenosić między nimi trzeba explicite.\n",
            "\n",
            "Najważniejsze moduły:\n",
            "- `torch` - podstawowe klasy oraz funkcje, np. `Tensor`, `from_numpy()`\n",
            "- `torch.nn` - klasy związane z sieciami neuronowymi, np. `Linear`, `Sigmoid`\n",
            "- `torch.optim` - wszystko związane z optymalizacją, głównie spadkiem wzdłuż gradientu"
         ]
      },
      {
         "cell_type": "code",
         "execution_count": 166,
         "metadata": {
            "id": "FwuIt8S-LAss"
         },
         "outputs": [],
         "source": [
            "import torch\n",
            "import torch.nn as nn\n",
            "import torch.optim as optim"
         ]
      },
      {
         "cell_type": "code",
         "execution_count": 167,
         "metadata": {
            "colab": {
               "base_uri": "https://localhost:8080/"
            },
            "id": "bfCiUFXULAss",
            "outputId": "83f6231d-ecc4-461a-b758-fdc4bc2a88a4"
         },
         "outputs": [
            {
               "name": "stdout",
               "output_type": "stream",
               "text": [
                  "tensor([1.9253, 1.3120, 1.3909, 1.1133, 1.4154, 1.4650, 1.6518, 1.7220, 1.1320,\n",
                  "        1.5596])\n",
                  "tensor([0.9253, 0.3120, 0.3909, 0.1133, 0.4154, 0.4650, 0.6518, 0.7220, 0.1320,\n",
                  "        0.5596])\n",
                  "tensor(4.6873)\n"
               ]
            }
         ],
         "source": [
            "ones = torch.ones(10)\n",
            "noise = torch.ones(10) * torch.rand(10)\n",
            "\n",
            "# elementwise sum\n",
            "print(ones + noise)\n",
            "\n",
            "# elementwise multiplication\n",
            "print(ones * noise)\n",
            "\n",
            "# dot product\n",
            "print(ones @ noise)"
         ]
      },
      {
         "cell_type": "code",
         "execution_count": 168,
         "metadata": {
            "id": "ynNd_kD0LAst"
         },
         "outputs": [],
         "source": [
            "# beware - shares memory with original Numpy array!\n",
            "# very fast, but modifications are visible to original variable\n",
            "x = torch.from_numpy(x)\n",
            "y = torch.from_numpy(y)"
         ]
      },
      {
         "cell_type": "markdown",
         "metadata": {
            "id": "W9kkxczELAsu"
         },
         "source": [
            "Jeżeli dla stworzonych przez nas tensorów chcemy śledzić operacje i obliczać gradient, to musimy oznaczyć `requires_grad=True`."
         ]
      },
      {
         "cell_type": "code",
         "execution_count": 169,
         "metadata": {
            "colab": {
               "base_uri": "https://localhost:8080/"
            },
            "id": "8HtZL-KfLAsu",
            "outputId": "47c6d930-5678-452a-95bc-227935138b40"
         },
         "outputs": [
            {
               "data": {
                  "text/plain": [
                     "(tensor([0.1215], requires_grad=True), tensor([0.0878], requires_grad=True))"
                  ]
               },
               "execution_count": 169,
               "metadata": {},
               "output_type": "execute_result"
            }
         ],
         "source": [
            "a = torch.rand(1, requires_grad=True)\n",
            "b = torch.rand(1, requires_grad=True)\n",
            "a, b"
         ]
      },
      {
         "cell_type": "markdown",
         "metadata": {
            "id": "Nl1guWZ_LAsv"
         },
         "source": [
            "PyTorch zawiera większość powszechnie używanych funkcji kosztu, np. MSE. Mogą być one używane na 2 sposoby, z czego pierwszy jest popularniejszy:\n",
            "- jako klasy wywoływalne z modułu `torch.nn`\n",
            "- jako funkcje z modułu `torch.nn.functional`\n",
            "\n",
            "Po wykonaniu poniższego kodu widzimy, że zwraca on nam tensor z dodatkowymi atrybutami. Co ważne, jest to skalar (0-wymiarowy tensor), bo potrzebujemy zwyczajnej liczby do obliczania propagacji wstecznych (pochodnych czątkowych)."
         ]
      },
      {
         "cell_type": "code",
         "execution_count": 170,
         "metadata": {},
         "outputs": [
            {
               "data": {
                  "text/plain": [
                     "tensor(0.1990, dtype=torch.float64, grad_fn=<MseLossBackward0>)"
                  ]
               },
               "execution_count": 170,
               "metadata": {},
               "output_type": "execute_result"
            }
         ],
         "source": [
            "mse = nn.MSELoss()\n",
            "mse(y, a * x + b)"
         ]
      },
      {
         "cell_type": "markdown",
         "metadata": {
            "id": "vS35r49nLAsw"
         },
         "source": [
            "Atrybutu `grad_fn` nie używamy wprost, bo korzysta z niego w środku PyTorch, ale widać, że tensor jest \"świadomy\", że liczy się na nim pochodną. Możemy natomiast skorzystać z atrybutu `grad`, który zawiera faktyczny gradient. Zanim go jednak dostaniemy, to trzeba powiedzieć PyTorchowi, żeby policzył gradient. Służy do tego metoda `.backward()`, wywoływana na obiekcie zwracanym przez funkcję kosztu."
         ]
      },
      {
         "cell_type": "code",
         "execution_count": 171,
         "metadata": {
            "id": "Qb7l6Xg1LAsx"
         },
         "outputs": [],
         "source": [
            "loss = mse(y, a * x + b)\n",
            "loss.backward()"
         ]
      },
      {
         "cell_type": "code",
         "execution_count": 172,
         "metadata": {
            "colab": {
               "base_uri": "https://localhost:8080/"
            },
            "id": "6LfQbLVoLAsx",
            "outputId": "d5b87fb7-d284-423c-f467-b677384b2f67"
         },
         "outputs": [
            {
               "name": "stdout",
               "output_type": "stream",
               "text": [
                  "tensor([-0.5017])\n"
               ]
            }
         ],
         "source": [
            "print(a.grad)"
         ]
      },
      {
         "cell_type": "markdown",
         "metadata": {
            "id": "Kdf1iweELAsy"
         },
         "source": [
            "Ważne jest, że PyTorch nie liczy za każdym razem nowego gradientu, tylko dodaje go do istniejącego, czyli go akumuluje. Jest to przydatne w niektórych sieciach neuronowych, ale zazwyczaj trzeba go zerować. Jeżeli tego nie zrobimy, to dostaniemy coraz większe gradienty.\n",
            "\n",
            "Do zerowania służy metoda `.zero_()`. W PyTorchu wszystkie metody modyfikujące tensor w miejscu mają `_` na końcu nazwy. Jest to dość niskopoziomowa operacja dla pojedynczych tensorów - zobaczymy za chwilę, jak to robić łatwiej dla całej sieci."
         ]
      },
      {
         "cell_type": "code",
         "execution_count": 173,
         "metadata": {
            "colab": {
               "base_uri": "https://localhost:8080/"
            },
            "id": "DiCQZKJsLAsy",
            "outputId": "2f779622-480d-43fc-b9d0-a0e36ff4b28b"
         },
         "outputs": [
            {
               "data": {
                  "text/plain": [
                     "tensor([-1.0034])"
                  ]
               },
               "execution_count": 173,
               "metadata": {},
               "output_type": "execute_result"
            }
         ],
         "source": [
            "loss = mse(y, a * x + b)\n",
            "loss.backward()\n",
            "a.grad"
         ]
      },
      {
         "cell_type": "markdown",
         "metadata": {
            "id": "xNC3Ag8uLAsz"
         },
         "source": [
            "Zobaczmy, jak wyglądałaby regresja liniowa, ale napisana w PyTorchu. Jest to oczywiście bardzo niskopoziomowa implementacja - za chwilę zobaczymy, jak to wygląda w praktyce."
         ]
      },
      {
         "cell_type": "code",
         "execution_count": 174,
         "metadata": {
            "colab": {
               "base_uri": "https://localhost:8080/"
            },
            "id": "AKnxyeboLAsz",
            "outputId": "2f939474-901a-4773-9704-686a40ae6e8e"
         },
         "outputs": [
            {
               "name": "stdout",
               "output_type": "stream",
               "text": [
                  "step 0 loss:  tensor(0.1990, dtype=torch.float64, grad_fn=<MseLossBackward0>)\n",
                  "step 100 loss:  tensor(0.0127, dtype=torch.float64, grad_fn=<MseLossBackward0>)\n",
                  "step 200 loss:  tensor(0.0103, dtype=torch.float64, grad_fn=<MseLossBackward0>)\n",
                  "step 300 loss:  tensor(0.0101, dtype=torch.float64, grad_fn=<MseLossBackward0>)\n",
                  "step 400 loss:  tensor(0.0101, dtype=torch.float64, grad_fn=<MseLossBackward0>)\n",
                  "step 500 loss:  tensor(0.0101, dtype=torch.float64, grad_fn=<MseLossBackward0>)\n",
                  "step 600 loss:  tensor(0.0101, dtype=torch.float64, grad_fn=<MseLossBackward0>)\n",
                  "step 700 loss:  tensor(0.0101, dtype=torch.float64, grad_fn=<MseLossBackward0>)\n",
                  "step 800 loss:  tensor(0.0101, dtype=torch.float64, grad_fn=<MseLossBackward0>)\n",
                  "step 900 loss:  tensor(0.0101, dtype=torch.float64, grad_fn=<MseLossBackward0>)\n",
                  "final loss: tensor(0.0101, dtype=torch.float64, grad_fn=<MseLossBackward0>)\n"
               ]
            }
         ],
         "source": [
            "learning_rate = 0.1\n",
            "for i in range(1000):\n",
            "    loss = mse(y, a * x + b)\n",
            "\n",
            "    # compute gradients\n",
            "    loss.backward()\n",
            "\n",
            "    # update parameters\n",
            "    a.data -= learning_rate * a.grad\n",
            "    b.data -= learning_rate * b.grad\n",
            "\n",
            "    # zero gradients\n",
            "    a.grad.data.zero_()\n",
            "    b.grad.data.zero_()\n",
            "\n",
            "    if i % 100 == 0:\n",
            "        print(f\"step {i} loss: \", loss)\n",
            "\n",
            "print(\"final loss:\", loss)"
         ]
      },
      {
         "cell_type": "markdown",
         "metadata": {
            "id": "2DXNVhshmmI-"
         },
         "source": [
            "Trening modeli w PyTorchu jest dosyć schematyczny i najczęściej rozdziela się go na kilka bloków, dających razem **pętlę uczącą (training loop)**, powtarzaną w każdej epoce:\n",
            "1. Forward pass - obliczenie predykcji sieci\n",
            "2. Loss calculation\n",
            "3. Backpropagation - obliczenie pochodnych oraz zerowanie gradientów\n",
            "4. Optimalization - aktualizacja wag\n",
            "5. Other - ewaluacja na zbiorze walidacyjnym, logging etc."
         ]
      },
      {
         "cell_type": "code",
         "execution_count": 175,
         "metadata": {
            "colab": {
               "base_uri": "https://localhost:8080/"
            },
            "id": "2etpw7TNLAs0",
            "outputId": "8ac35c12-6c70-41ec-bf57-414456fc3c96",
            "scrolled": true
         },
         "outputs": [
            {
               "name": "stdout",
               "output_type": "stream",
               "text": [
                  "step 0 loss: 0.0542\n",
                  "step 100 loss: 0.0101\n",
                  "step 200 loss: 0.0101\n",
                  "step 300 loss: 0.0101\n",
                  "step 400 loss: 0.0101\n",
                  "step 500 loss: 0.0101\n",
                  "step 600 loss: 0.0101\n",
                  "step 700 loss: 0.0101\n",
                  "step 800 loss: 0.0101\n",
                  "step 900 loss: 0.0101\n",
                  "final loss: tensor(0.0101, dtype=torch.float64, grad_fn=<MseLossBackward0>)\n"
               ]
            }
         ],
         "source": [
            "# initialization\n",
            "learning_rate = 0.1\n",
            "a = torch.rand(1, requires_grad=True)\n",
            "b = torch.rand(1, requires_grad=True)\n",
            "optimizer = torch.optim.SGD([a, b], lr=learning_rate)\n",
            "best_loss = float(\"inf\")\n",
            "\n",
            "# training loop in each epoch\n",
            "for i in range(1000):\n",
            "    # forward pass\n",
            "    y_hat = a * x + b\n",
            "\n",
            "    # loss calculation\n",
            "    loss = mse(y, y_hat)\n",
            "\n",
            "    # backpropagation\n",
            "    loss.backward()\n",
            "\n",
            "    # optimization\n",
            "    optimizer.step()\n",
            "    optimizer.zero_grad()  # zeroes all gradients - very convenient!\n",
            "\n",
            "    if i % 100 == 0:\n",
            "        if loss < best_loss:\n",
            "            best_model = (a.clone(), b.clone())\n",
            "            best_loss = loss\n",
            "        print(f\"step {i} loss: {loss.item():.4f}\")\n",
            "\n",
            "print(\"final loss:\", loss)"
         ]
      },
      {
         "cell_type": "markdown",
         "metadata": {},
         "source": [
            "Przejdziemy teraz do budowy sieci neuronowej do klasyfikacji. Typowo implementuje się ją po prostu jako sieć dla regresji, ale zwracającą tyle wyników, ile mamy klas, a potem aplikuje się na tym funkcję sigmoidalną (2 klasy) lub softmax (>2 klasy). W przypadku klasyfikacji binarnej zwraca się czasem tylko 1 wartość, przepuszczaną przez sigmoidę - wtedy wyjście z sieci to prawdopodobieństwo klasy pozytywnej.\n",
            "\n",
            "Funkcją kosztu zwykle jest **entropia krzyżowa (cross-entropy)**, stosowana też w klasycznej regresji logistycznej. Co ważne, sieci neuronowe, nawet tak proste, uczą się szybciej i stabilniej, gdy dane na wejściu (a przynajmniej zmienne numeryczne) są **ustandaryzowane (standardized)**. Operacja ta polega na odjęciu średniej i podzieleniu przez odchylenie standardowe (tzw. *Z-score transformation*).\n",
            "\n",
            "**Uwaga - PyTorch wymaga tensora klas będącego liczbami zmiennoprzecinkowymi!**"
         ]
      },
      {
         "cell_type": "markdown",
         "metadata": {},
         "source": [
            "## Zbiór danych"
         ]
      },
      {
         "cell_type": "markdown",
         "metadata": {},
         "source": [
            "Na tym laboratorium wykorzystamy zbiór [Adult Census](https://archive.ics.uci.edu/ml/datasets/adult). Dotyczy on przewidywania na podstawie danych demograficznych, czy dany człowiek zarabia powyżej 50 tysięcy dolarów rocznie, czy też mniej. Jest to cenna informacja np. przy planowaniu kampanii marketingowych. Jak możesz się domyślić, zbiór pochodzi z czasów, kiedy inflacja była dużo niższa :)\n",
            "\n",
            "Poniżej znajduje się kod do ściągnięcia i preprocessingu zbioru. Nie musisz go dokładnie analizować."
         ]
      },
      {
         "cell_type": "code",
         "execution_count": 176,
         "metadata": {
            "colab": {
               "base_uri": "https://localhost:8080/"
            },
            "id": "4DNsaZAnLAs0",
            "outputId": "70822008-530d-4173-deb9-8149a9fe5b41",
            "scrolled": true
         },
         "outputs": [],
         "source": [
            "#!wget https://archive.ics.uci.edu/ml/machine-learning-databases/adult/adult.data"
         ]
      },
      {
         "cell_type": "code",
         "execution_count": 177,
         "metadata": {},
         "outputs": [
            {
               "data": {
                  "text/plain": [
                     "array([' <=50K', ' >50K'], dtype=object)"
                  ]
               },
               "execution_count": 177,
               "metadata": {},
               "output_type": "execute_result"
            }
         ],
         "source": [
            "import pandas as pd\n",
            "\n",
            "\n",
            "columns = [\n",
            "    \"age\",\n",
            "    \"workclass\",\n",
            "    \"fnlwgt\",\n",
            "    \"education\",\n",
            "    \"education-num\",\n",
            "    \"marital-status\",\n",
            "    \"occupation\",\n",
            "    \"relationship\",\n",
            "    \"race\",\n",
            "    \"sex\",\n",
            "    \"capital-gain\",\n",
            "    \"capital-loss\",\n",
            "    \"hours-per-week\",\n",
            "    \"native-country\",\n",
            "    \"wage\"\n",
            "]\n",
            "\n",
            "\"\"\"\n",
            "age: continuous.\n",
            "workclass: Private, Self-emp-not-inc, Self-emp-inc, Federal-gov, Local-gov, State-gov, Without-pay, Never-worked.\n",
            "fnlwgt: continuous.\n",
            "education: Bachelors, Some-college, 11th, HS-grad, Prof-school, Assoc-acdm, Assoc-voc, 9th, 7th-8th, 12th, Masters, 1st-4th, 10th, Doctorate, 5th-6th, Preschool.\n",
            "education-num: continuous.\n",
            "marital-status: Married-civ-spouse, Divorced, Never-married, Separated, Widowed, Married-spouse-absent, Married-AF-spouse.\n",
            "occupation: Tech-support, Craft-repair, Other-service, Sales, Exec-managerial, Prof-specialty, Handlers-cleaners, Machine-op-inspct, Adm-clerical, Farming-fishing, Transport-moving, Priv-house-serv, Protective-serv, Armed-Forces.\n",
            "relationship: Wife, Own-child, Husband, Not-in-family, Other-relative, Unmarried.\n",
            "race: White, Asian-Pac-Islander, Amer-Indian-Eskimo, Other, Black.\n",
            "sex: Female, Male.\n",
            "capital-gain: continuous.\n",
            "capital-loss: continuous.\n",
            "hours-per-week: continuous.\n",
            "native-country: United-States, Cambodia, England, Puerto-Rico, Canada, Germany, Outlying-US(Guam-USVI-etc), India, Japan, Greece, South, China, Cuba, Iran, Honduras, Philippines, Italy, Poland, Jamaica, Vietnam, Mexico, Portugal, Ireland, France, Dominican-Republic, Laos, Ecuador, Taiwan, Haiti, Columbia, Hungary, Guatemala, Nicaragua, Scotland, Thailand, Yugoslavia, El-Salvador, Trinadad&Tobago, Peru, Hong, Holand-Netherlands.\n",
            "\"\"\"\n",
            "\n",
            "df = pd.read_csv(\"adult.data\", header=None, names=columns)\n",
            "df.wage.unique()"
         ]
      },
      {
         "cell_type": "code",
         "execution_count": 178,
         "metadata": {},
         "outputs": [],
         "source": [
            "# attribution: https://www.kaggle.com/code/royshih23/topic7-classification-in-python\n",
            "df['education'].replace('Preschool', 'dropout',inplace=True)\n",
            "df['education'].replace('10th', 'dropout',inplace=True)\n",
            "df['education'].replace('11th', 'dropout',inplace=True)\n",
            "df['education'].replace('12th', 'dropout',inplace=True)\n",
            "df['education'].replace('1st-4th', 'dropout',inplace=True)\n",
            "df['education'].replace('5th-6th', 'dropout',inplace=True)\n",
            "df['education'].replace('7th-8th', 'dropout',inplace=True)\n",
            "df['education'].replace('9th', 'dropout',inplace=True)\n",
            "df['education'].replace('HS-Grad', 'HighGrad',inplace=True)\n",
            "df['education'].replace('HS-grad', 'HighGrad',inplace=True)\n",
            "df['education'].replace('Some-college', 'CommunityCollege',inplace=True)\n",
            "df['education'].replace('Assoc-acdm', 'CommunityCollege',inplace=True)\n",
            "df['education'].replace('Assoc-voc', 'CommunityCollege',inplace=True)\n",
            "df['education'].replace('Bachelors', 'Bachelors',inplace=True)\n",
            "df['education'].replace('Masters', 'Masters',inplace=True)\n",
            "df['education'].replace('Prof-school', 'Masters',inplace=True)\n",
            "df['education'].replace('Doctorate', 'Doctorate',inplace=True)\n",
            "\n",
            "df['marital-status'].replace('Never-married', 'NotMarried',inplace=True)\n",
            "df['marital-status'].replace(['Married-AF-spouse'], 'Married',inplace=True)\n",
            "df['marital-status'].replace(['Married-civ-spouse'], 'Married',inplace=True)\n",
            "df['marital-status'].replace(['Married-spouse-absent'], 'NotMarried',inplace=True)\n",
            "df['marital-status'].replace(['Separated'], 'Separated',inplace=True)\n",
            "df['marital-status'].replace(['Divorced'], 'Separated',inplace=True)\n",
            "df['marital-status'].replace(['Widowed'], 'Widowed',inplace=True)"
         ]
      },
      {
         "cell_type": "code",
         "execution_count": 179,
         "metadata": {
            "colab": {
               "base_uri": "https://localhost:8080/"
            },
            "id": "LiOxs_6mLAs1",
            "outputId": "c95418cf-2632-41d0-de0a-9caf109de113",
            "scrolled": true
         },
         "outputs": [
            {
               "name": "stderr",
               "output_type": "stream",
               "text": [
                  "/Library/Frameworks/Python.framework/Versions/3.10/lib/python3.10/site-packages/sklearn/preprocessing/_encoders.py:975: FutureWarning: `sparse` was renamed to `sparse_output` in version 1.2 and will be removed in 1.4. `sparse_output` is ignored unless you leave `sparse` to its default value.\n",
                  "  warnings.warn(\n"
               ]
            },
            {
               "data": {
                  "text/plain": [
                     "((20838, 108), (20838,))"
                  ]
               },
               "execution_count": 179,
               "metadata": {},
               "output_type": "execute_result"
            }
         ],
         "source": [
            "from sklearn.model_selection import train_test_split\n",
            "from sklearn.preprocessing import MinMaxScaler, OneHotEncoder, StandardScaler\n",
            "\n",
            "\n",
            "X = df.copy()\n",
            "y = (X.pop(\"wage\") == ' >50K').astype(int).values\n",
            "\n",
            "train_valid_size = 0.2\n",
            "\n",
            "X_train, X_test, y_train, y_test = train_test_split(\n",
            "    X, y, \n",
            "    test_size=train_valid_size, \n",
            "    random_state=0, \n",
            "    shuffle=True, \n",
            "    stratify=y\n",
            ")\n",
            "X_train, X_valid, y_train, y_valid = train_test_split(\n",
            "    X_train, y_train, \n",
            "    test_size=train_valid_size, \n",
            "    random_state=0, \n",
            "    shuffle=True, \n",
            "    stratify=y_train\n",
            ")\n",
            "\n",
            "continuous_cols = ['age', 'fnlwgt', 'education-num', 'capital-gain', 'capital-loss', 'hours-per-week']\n",
            "continuous_X_train = X_train[continuous_cols]\n",
            "categorical_X_train = X_train.loc[:, ~X_train.columns.isin(continuous_cols)]\n",
            "\n",
            "continuous_X_valid = X_valid[continuous_cols]\n",
            "categorical_X_valid = X_valid.loc[:, ~X_valid.columns.isin(continuous_cols)]\n",
            "\n",
            "continuous_X_test = X_test[continuous_cols]\n",
            "categorical_X_test = X_test.loc[:, ~X_test.columns.isin(continuous_cols)]\n",
            "\n",
            "categorical_encoder = OneHotEncoder(sparse=False, handle_unknown='ignore')\n",
            "continuous_scaler = StandardScaler() #MinMaxScaler(feature_range=(-1, 1))\n",
            "\n",
            "categorical_encoder.fit(categorical_X_train)\n",
            "continuous_scaler.fit(continuous_X_train)\n",
            "\n",
            "continuous_X_train = continuous_scaler.transform(continuous_X_train)\n",
            "continuous_X_valid = continuous_scaler.transform(continuous_X_valid)\n",
            "continuous_X_test = continuous_scaler.transform(continuous_X_test)\n",
            "\n",
            "categorical_X_train = categorical_encoder.transform(categorical_X_train)\n",
            "categorical_X_valid = categorical_encoder.transform(categorical_X_valid)\n",
            "categorical_X_test = categorical_encoder.transform(categorical_X_test)\n",
            "\n",
            "X_train = np.concatenate([continuous_X_train, categorical_X_train], axis=1)\n",
            "X_valid = np.concatenate([continuous_X_valid, categorical_X_valid], axis=1)\n",
            "X_test = np.concatenate([continuous_X_test, categorical_X_test], axis=1)\n",
            "\n",
            "X_train.shape, y_train.shape"
         ]
      },
      {
         "cell_type": "markdown",
         "metadata": {},
         "source": [
            "Uwaga co do typów - PyTorchu wszystko w sieci neuronowej musi być typu `float32`. W szczególności trzeba uważać na konwersje z Numpy'a, który używa domyślnie typu `float64`. Może ci się przydać metoda `.float()`.\n",
            "\n",
            "Uwaga co do kształtów wyjścia - wejścia do `nn.BCELoss` muszą być tego samego kształtu. Może ci się przydać metoda `.squeeze()` lub `.unsqueeze()`."
         ]
      },
      {
         "cell_type": "code",
         "execution_count": 180,
         "metadata": {
            "id": "qfRA3xEoLAs1"
         },
         "outputs": [],
         "source": [
            "X_train = torch.from_numpy(X_train).float()\n",
            "y_train = torch.from_numpy(y_train).float().unsqueeze(-1)\n",
            "\n",
            "X_valid = torch.from_numpy(X_valid).float()\n",
            "y_valid = torch.from_numpy(y_valid).float().unsqueeze(-1)\n",
            "\n",
            "X_test = torch.from_numpy(X_test).float()\n",
            "y_test = torch.from_numpy(y_test).float().unsqueeze(-1)"
         ]
      },
      {
         "cell_type": "markdown",
         "metadata": {},
         "source": [
            "Podobnie jak w laboratorium 2, mamy tu do czynienia z klasyfikacją niezbalansowaną:"
         ]
      },
      {
         "cell_type": "code",
         "execution_count": 181,
         "metadata": {},
         "outputs": [
            {
               "data": {
                  "image/png": "[encoded data removed]",
                  "text/plain": [
                     "<Figure size 640x480 with 1 Axes>"
                  ]
               },
               "metadata": {},
               "output_type": "display_data"
            }
         ],
         "source": [
            "import matplotlib.pyplot as plt\n",
            "\n",
            "y_pos_perc = 100 * y_train.sum().item() / len(y_train)\n",
            "y_neg_perc = 100 - y_pos_perc\n",
            "\n",
            "plt.title(\"Class percentages\")\n",
            "plt.bar([\"<50k\", \">=50k\"], [y_neg_perc, y_pos_perc])\n",
            "plt.show()"
         ]
      },
      {
         "cell_type": "markdown",
         "metadata": {},
         "source": [
            "W związku z powyższym będziemy używać odpowiednich metryk, czyli AUROC, precyzji i czułości."
         ]
      },
      {
         "cell_type": "markdown",
         "metadata": {
            "id": "XLexWff-LAs0"
         },
         "source": [
            "#### Zadanie 3 (1.0 punkt)\n",
            "\n",
            "Zaimplementuj regresję logistyczną dla tego zbioru danych, używając PyTorcha. Dane wejściowe zostały dla ciebie przygotowane w komórkach poniżej.\n",
            "\n",
            "Sama sieć składa się z 2 elementów:\n",
            "- warstwa liniowa `nn.Linear`, przekształcająca wektor wejściowy na 1 wyjście - logit\n",
            "- aktywacja sigmoidalna `nn.Sigmoid`, przekształcająca logit na prawdopodobieństwo klasy pozytywnej\n",
            "\n",
            "Użyj binarnej entropii krzyżowej `nn.BCELoss` jako funkcji kosztu. Użyj optymalizatora SGD ze stałą uczącą `1e-3`. Trenuj przez 3000 epok. Pamiętaj, aby przekazać do optymalizatora `torch.optim.SGD` parametry sieci (metoda `.parameters()`). Dopisz logowanie kosztu raz na 100 epok."
         ]
      },
      {
         "cell_type": "code",
         "execution_count": 182,
         "metadata": {
            "colab": {
               "base_uri": "https://localhost:8080/"
            },
            "id": "NbABKz5-LAs2",
            "outputId": "086dc0f3-0184-4072-9fd3-275b60dee2e4",
            "scrolled": true
         },
         "outputs": [
            {
               "name": "stdout",
               "output_type": "stream",
               "text": [
                  "Epoch 0/3000, Loss: 0.6901\n",
                  "Epoch 100/3000, Loss: 0.6576\n",
                  "Epoch 200/3000, Loss: 0.6305\n",
                  "Epoch 300/3000, Loss: 0.6078\n",
                  "Epoch 400/3000, Loss: 0.5886\n",
                  "Epoch 500/3000, Loss: 0.5721\n",
                  "Epoch 600/3000, Loss: 0.5580\n",
                  "Epoch 700/3000, Loss: 0.5457\n",
                  "Epoch 800/3000, Loss: 0.5350\n"
               ]
            },
            {
               "name": "stdout",
               "output_type": "stream",
               "text": [
                  "Epoch 900/3000, Loss: 0.5254\n",
                  "Epoch 1000/3000, Loss: 0.5170\n",
                  "Epoch 1100/3000, Loss: 0.5094\n",
                  "Epoch 1200/3000, Loss: 0.5025\n",
                  "Epoch 1300/3000, Loss: 0.4962\n",
                  "Epoch 1400/3000, Loss: 0.4905\n",
                  "Epoch 1500/3000, Loss: 0.4852\n",
                  "Epoch 1600/3000, Loss: 0.4803\n",
                  "Epoch 1700/3000, Loss: 0.4758\n",
                  "Epoch 1800/3000, Loss: 0.4715\n",
                  "Epoch 1900/3000, Loss: 0.4676\n",
                  "Epoch 2000/3000, Loss: 0.4638\n",
                  "Epoch 2100/3000, Loss: 0.4603\n",
                  "Epoch 2200/3000, Loss: 0.4570\n",
                  "Epoch 2300/3000, Loss: 0.4539\n",
                  "Epoch 2400/3000, Loss: 0.4509\n",
                  "Epoch 2500/3000, Loss: 0.4480\n",
                  "Epoch 2600/3000, Loss: 0.4453\n",
                  "Epoch 2700/3000, Loss: 0.4427\n",
                  "Epoch 2800/3000, Loss: 0.4403\n",
                  "Epoch 2900/3000, Loss: 0.4379\n",
                  "Validation Loss: 0.4385\n"
               ]
            }
         ],
         "source": [
            "learning_rate = 1e-3\n",
            "\n",
            "input_size = X_train.shape[1]\n",
            "activation = nn.Sigmoid()\n",
            "model = nn.Sequential(\n",
            "    nn.Linear(input_size, 1),\n",
            "    activation\n",
            ")\n",
            "loss_fn = nn.BCELoss()\n",
            "optimizer = optim.SGD(model.parameters(), lr=learning_rate)\n",
            "\n",
            "epochs = 3000\n",
            "log_interval = 100\n",
            "\n",
            "for epoch in range(epochs):\n",
            "    # Forward pass\n",
            "    y_pred = model(X_train)\n",
            "\n",
            "    # Obliczanie funkcji kosztu\n",
            "    loss = loss_fn(y_pred, y_train)\n",
            "\n",
            "    # Backward pass i aktualizacja wag\n",
            "    optimizer.zero_grad()\n",
            "    loss.backward()\n",
            "    optimizer.step()\n",
            "\n",
            "    # Logowanie kosztu co log_interval epok\n",
            "    if epoch % log_interval == 0:\n",
            "        print(f'Epoch {epoch}/{epochs}, Loss: {loss.item():.4f}')\n",
            "\n",
            "# Ocena modelu na zbiorze walidacyjnym\n",
            "with torch.no_grad():\n",
            "    y_pred_valid = model(X_valid)\n",
            "    valid_loss = loss_fn(y_pred_valid, y_valid)\n",
            "\n",
            "print(f'Validation Loss: {valid_loss.item():.4f}')\n"
         ]
      },
      {
         "cell_type": "markdown",
         "metadata": {},
         "source": [
            "Teraz trzeba sprawdzić, jak poszło naszej sieci. W PyTorchu sieć pracuje zawsze w jednym z dwóch trybów: treningowym lub ewaluacyjnym (predykcyjnym). Ten drugi wyłącza niektóre mechanizmy, które są używane tylko podczas treningu, w szczególności regularyzację dropout. Do przełączania służą metody modelu `.train()` i `.eval()`.\n",
            "\n",
            "Dodatkowo podczas liczenia predykcji dobrze jest wyłączyć liczenie gradientów, bo nie będą potrzebne, a oszczędza to czas i pamięć. Używa się do tego menadżera kontekstu `with torch.no_grad():`."
         ]
      },
      {
         "cell_type": "code",
         "execution_count": 183,
         "metadata": {
            "colab": {
               "base_uri": "https://localhost:8080/"
            },
            "id": "zH37zDX4LAs2",
            "outputId": "b1f93309-6f04-4ffc-b0ca-08d0a32120a0",
            "scrolled": true
         },
         "outputs": [
            {
               "name": "stdout",
               "output_type": "stream",
               "text": [
                  "AUROC: 85.77%\n"
               ]
            }
         ],
         "source": [
            "from sklearn.metrics import precision_recall_curve, precision_recall_fscore_support, roc_auc_score\n",
            "\n",
            "\n",
            "model.eval()\n",
            "with torch.no_grad():\n",
            "    y_score = activation(model(X_test))\n",
            "\n",
            "auroc = roc_auc_score(y_test, y_score)\n",
            "print(f\"AUROC: {100 * auroc:.2f}%\")"
         ]
      },
      {
         "cell_type": "markdown",
         "metadata": {},
         "source": [
            "Jest to całkiem dobry wynik, a może być jeszcze lepszy. Sprawdźmy dla pewności jeszcze inne metryki: precyzję, recall oraz F1-score. Dodatkowo narysujemy krzywą precision-recall, czyli jak zmieniają się te metryki w zależności od przyjętego progu (threshold) prawdopodobieństwa, powyżej którego przyjmujemy klasę pozytywną. Taką krzywą należy rysować na zbiorze walidacyjnym, bo później chcemy wykorzystać tę informację do doboru progu, a nie chcemy mieć wycieku danych testowych (data leakage).\n",
            "\n",
            "Poniżej zaimplementowano także funkcję `get_optimal_threshold()`, która sprawdza, dla którego progu uzyskujemy maksymalny F1-score, i zwraca indeks oraz wartość optymalnego progu. Przyda ci się ona w dalszej części laboratorium."
         ]
      },
      {
         "cell_type": "code",
         "execution_count": 184,
         "metadata": {},
         "outputs": [],
         "source": [
            "from sklearn.metrics import PrecisionRecallDisplay\n",
            "\n",
            "\n",
            "def get_optimal_threshold(\n",
            "    precisions: np.array, \n",
            "    recalls: np.array, \n",
            "    thresholds: np.array\n",
            ") -> Tuple[int, float]:\n",
            "    \n",
            "    numerator = 2 * precisions * recalls\n",
            "    denominator = precisions + recalls\n",
            "    f1_scores = np.divide(numerator, denominator, out=np.zeros_like(numerator), where=denominator != 0)\n",
            "    \n",
            "    optimal_idx = np.argmax(f1_scores)\n",
            "    optimal_threshold = thresholds[optimal_idx]\n",
            "    \n",
            "    return optimal_idx, optimal_threshold\n",
            "\n",
            "\n",
            "def plot_precision_recall_curve(y_true, y_pred_score) -> None:\n",
            "    precisions, recalls, thresholds = precision_recall_curve(y_true, y_pred_score)\n",
            "    optimal_idx, optimal_threshold = get_optimal_threshold(precisions, recalls, thresholds)\n",
            "\n",
            "    disp = PrecisionRecallDisplay(precisions, recalls)\n",
            "    disp.plot()\n",
            "    plt.title(f\"Precision-recall curve (opt. thresh.: {optimal_threshold:.4f})\")\n",
            "    plt.axvline(recalls[optimal_idx], color=\"green\", linestyle=\"-.\")\n",
            "    plt.axhline(precisions[optimal_idx], color=\"green\", linestyle=\"-.\")\n",
            "    plt.show()\n"
         ]
      },
      {
         "cell_type": "code",
         "execution_count": 185,
         "metadata": {},
         "outputs": [
            {
               "data": {
                  "image/png": "[encoded data removed]",
                  "text/plain": [
                     "<Figure size 640x480 with 1 Axes>"
                  ]
               },
               "metadata": {},
               "output_type": "display_data"
            }
         ],
         "source": [
            "model.eval()\n",
            "with torch.no_grad():\n",
            "    y_pred_valid_score = activation(model(X_valid))\n",
            "\n",
            "plot_precision_recall_curve(y_valid, y_pred_valid_score)"
         ]
      },
      {
         "cell_type": "markdown",
         "metadata": {
            "id": "vfQPIUQ_LAs2"
         },
         "source": [
            "Jak widać, chociaż AUROC jest wysokie, to dla optymalnego F1-score recall nie jest zbyt wysoki, a precyzja jest już dość niska. Być może wynik uda się poprawić, używając modelu o większej pojemności - pełnej, głębokiej sieci neuronowej."
         ]
      },
      {
         "cell_type": "markdown",
         "metadata": {},
         "source": [
            "## Sieci neuronowe"
         ]
      },
      {
         "cell_type": "markdown",
         "metadata": {
            "id": "YP298w6Cq7T6"
         },
         "source": [
            "Wszystko zaczęło się od inspirowanych biologią [sztucznych neuronów](https://en.wikipedia.org/wiki/Artificial_neuron), których próbowano użyć do symulacji mózgu. Naukowcy szybko odeszli od tego podejścia (sam problem modelowania okazał się też znacznie trudniejszy, niż sądzono), zamiast tego używając neuronów jako jednostek reprezentującą dowolną funkcję parametryczną $f(x, \\Theta)$. Każdy neuron jest zatem bardzo elastyczny, bo jedyne wymagania to funkcja różniczkowalna, a mamy do tego wektor parametrów $\\Theta$.\n",
            "\n",
            "W praktyce najczęściej można spotkać się z kilkoma rodzinami sieci neuronowych:\n",
            "1. Perceptrony wielowarstwowe (*MultiLayer Perceptron*, MLP) - najbardziej podobne do powyższego opisu, niezbędne do klasyfikacji i regresji\n",
            "2. Konwolucyjne (*Convolutional Neural Networks*, CNNs) - do przetwarzania danych z zależnościami przestrzennymi, np. obrazów czy dźwięku\n",
            "3. Rekurencyjne (*Recurrent Neural Networks*, RNNs) - do przetwarzania danych z zależnościami sekwencyjnymi, np. szeregi czasowe, oraz kiedyś do języka naturalnego\n",
            "4. Transformacyjne (*Transformers*), oparte o mechanizm atencji (*attention*) - do przetwarzania języka naturalnego (NLP), z którego wyparły RNNs, a coraz częściej także do wszelkich innych danych, np. obrazów, dźwięku\n",
            "5. Grafowe (*Graph Neural Networks*, GNNS) - do przetwarzania grafów\n",
            "\n",
            "Na tym laboratorium skupimy się na najprostszej architekturze, czyli MLP. Jest ona powszechnie łączona z wszelkimi innymi architekturami, bo pozwala dokonywać klasyfikacji i regresji. Przykładowo, klasyfikacja obrazów to zwykle CNN + MLP, klasyfikacja tekstów to transformer + MLP, a regresja na grafach to GNN + MLP.\n",
            "\n",
            "Dodatkowo, pomimo prostoty MLP są bardzo potężne - udowodniono, że perceptrony (ich powszechna nazwa) są [uniwersalnym aproksymatorem](https://www.sciencedirect.com/science/article/abs/pii/0893608089900208), będącym w stanie przybliżyć dowolną funkcję z odpowiednio małym błędem, zakładając wystarczającą wielkość warstw sieci. Szczególne ich wersje potrafią nawet [reprezentować drzewa decyzyjne](https://www.youtube.com/watch?v=_okxGdHM5b8).\n",
            "\n",
            "Dla zainteresowanych polecamy [doskonałą książkę \"Dive into Deep Learning\", z implementacjami w PyTorchu](https://d2l.ai/chapter_multilayer-perceptrons/index.html), [klasyczną książkę \"Deep Learning Book\"](https://www.deeplearningbook.org/contents/mlp.html), oraz [ten filmik](https://www.youtube.com/watch?v=BFHrIxKcLjA), jeśli zastanawiałeś/-aś się, czemu używamy deep learning, a nie naprzykład (wide?) learning. (aka. czemu staramy się budować głębokie sieci, a nie płytkie za to szerokie)"
         ]
      },
      {
         "attachments": {
            "1_x-3NGQv0pRIab8xDT-f_Hg.png": {
               "image/png": "[encoded data removed]"
            }
         },
         "cell_type": "markdown",
         "metadata": {
            "id": "S_ZjoGBU5upj"
         },
         "source": [
            "### Sieci MLP\n",
            "\n",
            "Dla przypomnienia, na wejściu mamy punkty ze zbioru treningowego, czyli $d$-wymiarowe wektory. W klasyfikacji chcemy znaleźć granicę decyzyjną, czyli krzywą, która oddzieli od siebie klasy. W wejściowej przestrzeni może być to trudne, bo chmury punktów z poszczególnych klas mogą być ze sobą dość pomieszane. Pamiętajmy też, że regresja logistyczna jest klasyfikatorem liniowym, czyli w danej przestrzeni potrafi oddzielić punkty tylko linią prostą.\n",
            "\n",
            "Sieć MLP składa się z warstw. Każda z nich dokonuje nieliniowego przekształcenia przestrzeni (można o tym myśleć jak o składaniu przestrzeni jakąś prostą/łamaną), tak, aby w finalnej przestrzeni nasze punkty były możliwie liniowo separowalne. Wtedy ostatnia warstwa z sigmoidą będzie potrafiła je rozdzielić od siebie.\n",
            "\n",
            "![1_x-3NGQv0pRIab8xDT-f_Hg.png](attachment:1_x-3NGQv0pRIab8xDT-f_Hg.png)\n",
            "\n",
            "Poszczególne neurony składają się z iloczynu skalarnego wejść z wagami neuronu, oraz nieliniowej funkcji aktywacji. W PyTorchu są to osobne obiekty - `nn.Linear` oraz np. `nn.Sigmoid`. Funkcja aktywacji przyjmuje wynik iloczynu skalarnego i przekształca go, aby sprawdzić, jak mocno reaguje neuron na dane wejście. Musi być nieliniowa z dwóch powodów. Po pierwsze, tylko nieliniowe przekształcenia są na tyle potężne, żeby umożliwić liniową separację danych w ostatniej warstwie. Po drugie, liniowe przekształcenia zwyczajnie nie działają. Aby zrozumieć czemu, trzeba zobaczyć, co matematycznie oznacza sieć MLP.\n",
            "\n",
            "![perceptron](https://www.saedsayad.com/images/Perceptron_bkp_1.png)\n",
            "\n",
            "Zapisane matematycznie MLP to:\n",
            "\n",
            "$\\large\n",
            "h_1 = f_1(x) \\\\\n",
            "h_2 = f_2(h_1) \\\\\n",
            "h_3 = f_3(h_2) \\\\\n",
            "... \\\\\n",
            "h_n = f_n(h_{n-1})\n",
            "$\n",
            "\n",
            "gdzie $x$ to wejście $f_i$ to funkcja aktywacji $i$-tej warstwy, a $h_i$ to wyjście $i$-tej warstwy, nazywane **ukrytą reprezentacją (hidden representation)**, lub *latent representation*. Nazwa bierze się z tego, że w środku sieci wyciągamy cechy i wzorce w danych, które nie są widoczne na pierwszy rzut oka na wejściu.\n",
            "\n",
            "Załóżmy, że uczymy się na danych $x$ o jednym wymiarze (dla uproszczenia wzorów) oraz nie mamy funkcji aktywacji, czyli wykorzystujemy tak naprawdę aktywację liniową $f(x) = x$. Zobaczmy jak będą wyglądać dane przechodząc przez kolejne warstwy:\n",
            "\n",
            "$\\large\n",
            "h_1 = f_1(xw_1) = xw_1 \\\\\n",
            "h_2 = f_2(h_1w_2) = xw_1w_2 \\\\\n",
            "... \\\\\n",
            "h_n = f_n(h_{n-1}w_n) = xw_1w_2...w_n\n",
            "$\n",
            "\n",
            "gdzie $w_i$ to jest parametr $i$-tej warstwy sieci, $x$ to są dane (w naszym przypadku jedna liczba) wejściowa, a $h_i$ to wyjście $i$-tej warstwy.\n",
            "\n",
            "Jak widać, taka sieć o $n$ warstwach jest równoważna sieci o jednej warstwie z parametrem $w = w_1w_2...w_n$. Wynika to z tego, że złożenie funkcji liniowych jest także funkcją liniową - patrz notatki z algebry :)\n",
            "\n",
            "Jeżeli natomiast użyjemy nieliniowej funkcji aktywacji, często oznaczanej jako $\\sigma$, to wszystko będzie działać. Co ważne, ostatnia warstwa, dająca wyjście sieci, ma zwykle inną aktywację od warstw wewnątrz sieci, bo też ma inne zadanie - zwrócić wartość dla klasyfikacji lub regresji. Na wyjściu korzysta się z funkcji liniowej (regresja), sigmoidalnej (klasyfikacja binarna) lub softmax (klasyfikacja wieloklasowa).\n",
            "\n",
            "Wewnątrz sieci używano kiedyś sigmoidy oraz tangensa hiperbolicznego `tanh`, ale okazało się to nieefektywne przy uczeniu głębokich sieci o wielu warstwach. Nowoczesne sieci korzystają zwykle z funkcji ReLU (*rectified linear unit*), która jest zaskakująco prosta: $ReLU(x) = \\max(0, x)$. Okazało się, że bardzo dobrze nadaje się do treningu nawet bardzo głębokich sieci neuronowych. Nowsze funkcje aktywacji są głównie modyfikacjami ReLU.\n",
            "\n",
            "![relu](https://www.nomidl.com/wp-content/uploads/2022/04/image-10.png)"
         ]
      },
      {
         "cell_type": "markdown",
         "metadata": {},
         "source": [
            "### MLP w PyTorchu\n",
            "\n",
            "Warstwę neuronów w MLP nazywa się warstwą gęstą (*dense layer*) lub warstwą w pełni połączoną (*fully-connected layer*), i taki opis oznacza zwykle same neurony oraz funkcję aktywacji. PyTorch, jak już widzieliśmy, definiuje osobno transformację liniową oraz aktywację, a więc jedna warstwa składa się de facto z 2 obiektów, wywoływanych jeden po drugim. Inne frameworki, szczególnie wysokopoziomowe (np. Keras) łączą to często w jeden obiekt.\n",
            "\n",
            "MLP składa się zatem z sekwencji obiektów, które potem wywołuje się jeden po drugim, gdzie wyjście poprzedniego to wejście kolejnego. Ale nie można tutaj używać Pythonowych list! Z perspektywy PyTorcha to wtedy niezależne obiekty i nie zostanie wtedy przekazany między nimi gradient. Trzeba tutaj skorzystać z `nn.Sequential`, aby tworzyć taki pipeline.\n",
            "\n",
            "Rozmiary wejścia i wyjścia dla każdej warstwy trzeba w PyTorchu podawać explicite. Jest to po pierwsze edukacyjne, a po drugie często ułatwia wnioskowanie o działaniu sieci oraz jej debugowanie - mamy jasno podane, czego oczekujemy. Niektóre frameworki (np. Keras) obliczają to automatycznie.\n",
            "\n",
            "Co ważne, ostatnia warstwa zwykle nie ma funkcji aktywacji. Wynika to z tego, że obliczanie wielu funkcji kosztu (np. entropii krzyżowej) na aktywacjach jest często niestabilne numerycznie. Z tego powodu PyTorch oferuje funkcje kosztu zawierające w środku aktywację dla ostatniej warstwy, a ich implementacje są stabilne numerycznie. Przykładowo, `nn.BCELoss` przyjmuje wejście z zaaplikowanymi już aktywacjami, ale może skutkować under/overflow, natomiast `nn.BCEWithLogitsLoss` przyjmuje wejście bez aktywacji, a w środku ma specjalną implementację łączącą binarną entropię krzyżową z aktywacją sigmoidalną. Oczywiście w związku z tym aby dokonać potem predykcji w praktyce, trzeba pamiętać o użyciu funkcji aktywacji. Często korzysta się przy tym z funkcji z modułu `torch.nn.functional`, które są w tym wypadku nieco wygodniejsze od klas wywoływalnych z `torch.nn`.\n",
            "\n",
            "Całe sieci w PyTorchu tworzy się jako klasy dziedziczące po `nn.Module`. Co ważne, obiekty, z których tworzymy sieć, np. `nn.Linear`, także dziedziczą po tej klasie. Pozwala to na bardzo modułową budowę kodu, zgodną z zasadami OOP. W konstruktorze najpierw trzeba zawsze wywołać konstruktor rodzica - `super().__init__()`, a później tworzy się potrzebne obiekty i zapisuje jako atrybuty. Każdy atrybut dziedziczący po `nn.Module` lub `nn.Parameter` jest uważany za taki, który zawiera parametry sieci, a więc przy wywołaniu metody `parameters()` - parametry z tych atrybutów pojawią się w liście wszystkich parametrów. Musimy też zdefiniować metodę `forward()`, która przyjmuje tensor `x` i zwraca wynik. Typowo ta metoda po prostu używa obiektów zdefiniowanych w konstruktorze.\n",
            "\n",
            "\n",
            "**UWAGA: nigdy w normalnych warunkach się nie woła metody `forward` ręcznie**"
         ]
      },
      {
         "cell_type": "markdown",
         "metadata": {
            "id": "J8niDgExAMDO"
         },
         "source": [
            "#### Zadanie 4 (0.5 punktu)\n",
            "\n",
            "Uzupełnij implementację 3-warstwowej sieci MLP. Użyj rozmiarów:\n",
            "* pierwsza warstwa: input_size x 256\n",
            "* druga warstwa: 256 x 128\n",
            "* trzecia warstwa: 128 x 1\n",
            "\n",
            "Użyj funkcji aktywacji ReLU.\n",
            "\n",
            "Przydatne klasy:\n",
            "- `nn.Sequential`\n",
            "- `nn.Linear`\n",
            "- `nn.ReLU`"
         ]
      },
      {
         "cell_type": "code",
         "execution_count": 186,
         "metadata": {},
         "outputs": [],
         "source": [
            "from torch import sigmoid\n",
            "\n",
            "\n",
            "class MLP(nn.Module):\n",
            "    def __init__(self, input_size: int):\n",
            "        super().__init__()\n",
            "\n",
            "        self.first_layer = nn.Linear(input_size, 256)\n",
            "        self.second_layer = nn.Linear(256, 128)\n",
            "        self.third_layer = nn.Linear(128, 1)\n",
            "        self.model=nn.Sequential(\n",
            "            self.first_layer,\n",
            "            nn.ReLU(),\n",
            "            self.second_layer,\n",
            "            nn.ReLU(),\n",
            "            self.third_layer\n",
            "        )\n",
            "        \n",
            "\n",
            "    def forward(self, x):\n",
            "        return self.model(x)\n",
            "\n",
            "    def predict_proba(self, x):\n",
            "        return sigmoid(self(x))\n",
            "    \n",
            "    def predict(self, x, threshold: float = 0.5):\n",
            "        y_pred_score = self.predict_proba(x)\n",
            "        return (y_pred_score > threshold).to(torch.int32)\n"
         ]
      },
      {
         "cell_type": "code",
         "execution_count": 187,
         "metadata": {},
         "outputs": [
            {
               "name": "stdout",
               "output_type": "stream",
               "text": [
                  "Epoch 0 train loss: 0.6995\n"
               ]
            },
            {
               "name": "stdout",
               "output_type": "stream",
               "text": [
                  "Epoch 200 train loss: 0.6760\n",
                  "Epoch 400 train loss: 0.6560\n",
                  "Epoch 600 train loss: 0.6388\n",
                  "Epoch 800 train loss: 0.6237\n",
                  "Epoch 1000 train loss: 0.6104\n",
                  "Epoch 1200 train loss: 0.5985\n",
                  "Epoch 1400 train loss: 0.5879\n",
                  "Epoch 1600 train loss: 0.5784\n",
                  "Epoch 1800 train loss: 0.5699\n",
                  "final loss: 0.5623\n"
               ]
            }
         ],
         "source": [
            "learning_rate = 1e-3\n",
            "model = MLP(input_size=X_train.shape[1])\n",
            "optimizer = torch.optim.SGD(model.parameters(), lr=learning_rate)\n",
            "\n",
            "loss_fn = torch.nn.BCEWithLogitsLoss()\n",
            "num_epochs = 2000\n",
            "evaluation_steps = 200\n",
            "\n",
            "for i in range(num_epochs):\n",
            "    y_pred = model(X_train)\n",
            "    loss = loss_fn(y_pred, y_train)\n",
            "    loss.backward()\n",
            "\n",
            "    optimizer.step()\n",
            "    optimizer.zero_grad()\n",
            "\n",
            "    if i % evaluation_steps == 0:\n",
            "        print(f\"Epoch {i} train loss: {loss.item():.4f}\")\n",
            "\n",
            "print(f\"final loss: {loss.item():.4f}\")"
         ]
      },
      {
         "cell_type": "code",
         "execution_count": 188,
         "metadata": {
            "colab": {
               "base_uri": "https://localhost:8080/"
            },
            "id": "LP5GSup24dXU",
            "outputId": "05f332c4-5d94-41f6-f85b-17793d3c4b49"
         },
         "outputs": [
            {
               "name": "stdout",
               "output_type": "stream",
               "text": [
                  "AUROC: 70.84%\n"
               ]
            },
            {
               "data": {
                  "image/png": "[encoded data removed]",
                  "text/plain": [
                     "<Figure size 640x480 with 1 Axes>"
                  ]
               },
               "metadata": {},
               "output_type": "display_data"
            }
         ],
         "source": [
            "model.eval()\n",
            "with torch.no_grad():\n",
            "    # positive class probabilities\n",
            "    y_pred_valid_score = model.predict_proba(X_valid)\n",
            "    y_pred_test_score = model.predict_proba(X_test)\n",
            "\n",
            "auroc = roc_auc_score(y_test, y_pred_test_score)\n",
            "print(f\"AUROC: {100 * auroc:.2f}%\")\n",
            "\n",
            "plot_precision_recall_curve(y_valid, y_pred_valid_score)"
         ]
      },
      {
         "cell_type": "markdown",
         "metadata": {},
         "source": [
            "AUROC jest podobne, a precision i recall spadły - wypadamy wręcz gorzej od regresji liniowej! Skoro dodaliśmy więcej warstw, to może pojemność modelu jest teraz za duża i trzeba by go zregularyzować?\n",
            "\n",
            "Sieci neuronowe bardzo łatwo przeuczają, bo są bardzo elastycznymi i pojemnymi modelami. Dlatego mają wiele różnych rodzajów regularyzacji, których używa się razem. Co ciekawe, udowodniono eksperymentalnie, że zbyt duże sieci z mocną regularyzacją działają lepiej niż mniejsze sieci, odpowiedniego rozmiaru, za to ze słabszą regularyzacją.\n",
            "\n",
            "Pierwszy rodzaj regularyzacji to znana nam już **regularyzacja L2**, czyli penalizacja zbyt dużych wag. W kontekście sieci neuronowych nazywa się też ją czasem *weight decay*. W PyTorchu dodaje się ją jako argument do optymalizatora.\n",
            "\n",
            "Regularyzacja specyficzna dla sieci neuronowych to **dropout**. Polega on na losowym wyłączaniu zadanego procenta neuronów podczas treningu. Pomimo prostoty okazała się niesamowicie skuteczna, szczególnie w treningu bardzo głębokich sieci. Co ważne, jest to mechanizm używany tylko podczas treningu - w trakcie predykcji za pomocą sieci wyłącza się ten mechanizm i dokonuje normalnie predykcji całą siecią. Podejście to można potraktować jak ensemble learning, podobny do lasów losowych - wyłączając losowe części sieci, w każdej iteracji trenujemy nieco inną sieć, co odpowiada uśrednianiu predykcji różnych algorytmów. Typowo stosuje się dość mocny dropout, rzędu 25-50%. W PyTorchu implementuje go warstwa `nn.Dropout`, aplikowana zazwyczaj po funkcji aktywacji.\n",
            "\n",
            "Ostatni, a być może najważniejszy rodzaj regularyzacji to **wczesny stop (early stopping)**. W każdym kroku mocniej dostosowujemy terenową sieć do zbioru treningowego, a więc zbyt długi trening będzie skutkował przeuczeniem. W metodzie wczesnego stopu używamy wydzielonego zbioru walidacyjnego (pojedynczego, metoda holdout), sprawdzając co określoną liczbę epok wynik na tym zbiorze. Jeżeli nie uzyskamy wyniku lepszego od najlepszego dotychczas uzyskanego przez określoną liczbę epok, to przerywamy trening. Okres, przez który czekamy na uzyskanie lepszego wyniku, to cierpliwość (*patience*). Im mniejsze, tym mocniejszy jest ten rodzaj regularyzacji, ale trzeba z tym uważać, bo łatwo jest przesadzić i zbyt szybko przerywać trening. Niektóre implementacje uwzględniają tzw. *grace period*, czyli gwarantowaną minimalną liczbę epok, przez którą będziemy trenować sieć, niezależnie od wybranej cierpliwości.\n",
            "\n",
            "Dodatkowo ryzyko przeuczenia można zmniejszyć, używając mniejszej stałej uczącej."
         ]
      },
      {
         "cell_type": "markdown",
         "metadata": {},
         "source": [
            "#### Zadanie 5 (1.5 punktu)\n",
            "\n",
            "Zaimplementuj funkcję `evaluate_model()`, obliczającą metryki na zbiorze testowym:\n",
            "- wartość funkcji kosztu (loss)\n",
            "- AUROC\n",
            "- optymalny próg\n",
            "- F1-score przy optymalnym progu\n",
            "- precyzję oraz recall dla optymalnego progu\n",
            "\n",
            "Jeżeli podana jest wartość argumentu `threshold`, to użyj jej do zamiany prawdopodobieństw na twarde predykcje. W przeciwnym razie użyj funkcji `get_optimal_threshold` i oblicz optymalną wartość progu.\n",
            "\n",
            "Pamiętaj o przełączeniu modelu w tryb ewaluacji oraz o wyłączeniu obliczania gradientów."
         ]
      },
      {
         "cell_type": "code",
         "execution_count": 189,
         "metadata": {},
         "outputs": [],
         "source": [
            "from typing import Optional\n",
            "\n",
            "from sklearn.metrics import precision_score, recall_score, f1_score\n",
            "from torch import sigmoid\n",
            "\n",
            "\n",
            "def evaluate_model(\n",
            "    model: nn.Module, \n",
            "    X: torch.Tensor, \n",
            "    y: torch.Tensor, \n",
            "    loss_fn: nn.Module,\n",
            "    threshold: Optional[float]= None\n",
            ") -> Dict[str, float]:\n",
            "\n",
            "    model.eval()\n",
            "\n",
            "    with torch.no_grad():\n",
            "        y_pred_score = model.predict_proba(X)\n",
            "        precisions, recalls, thresholds = precision_recall_curve(y, y_pred_score)\n",
            "        optimal_idx, optimal_threshold = get_optimal_threshold(precisions, recalls, thresholds) \n",
            "        y_pred = None\n",
            "        if threshold is not None:\n",
            "            y_pred = model.predict(X, threshold)\n",
            "        else:\n",
            "            y_pred = model.predict(X, optimal_threshold)\n",
            "        loss = loss_fn(y_pred_score, y)\n",
            "\n",
            "        precision = precision_score(y, y_pred)\n",
            "        recall = recall_score(y, y_pred)\n",
            "        auroc = roc_auc_score(y, y_pred_score)\n",
            "        f1 = f1_score(y, y_pred)\n",
            "\n",
            "        return {\n",
            "            \"loss\": loss.item(),\n",
            "            \"AUROC\": auroc,\n",
            "            \"optimal_threshold\": optimal_threshold,\n",
            "            \"precision\": precision,\n",
            "            \"recall\": recall,\n",
            "            \"F1-score\": f1\n",
            "        }\n",
            "\n"
         ]
      },
      {
         "cell_type": "markdown",
         "metadata": {},
         "source": [
            "#### Zadanie 6 (0.5 punktu)\n",
            "\n",
            "Zaimplementuj 3-warstwową sieć MLP z dropout (50%). Rozmiary warstw ukrytych mają wynosić 256 i 128."
         ]
      },
      {
         "cell_type": "code",
         "execution_count": 190,
         "metadata": {},
         "outputs": [],
         "source": [
            "class RegularizedMLP(nn.Module):\n",
            "    def __init__(self, input_size: int, dropout_p: float = 0.5):\n",
            "        super().__init__()\n",
            "\n",
            "        self.first_layer = nn.Linear(input_size, 256)\n",
            "        self.second_layer = nn.Linear(256, 128)\n",
            "        self.third_layer = nn.Linear(128, 1)\n",
            "        self.model=nn.Sequential(\n",
            "            self.first_layer,\n",
            "            nn.ReLU(),\n",
            "            nn.Dropout(dropout_p),\n",
            "            self.second_layer,\n",
            "            nn.ReLU(),\n",
            "            nn.Dropout(dropout_p),\n",
            "            self.third_layer\n",
            "        )\n",
            "    \n",
            "    def forward(self, x):\n",
            "        return self.model(x)\n",
            "\n",
            "    def predict_proba(self, x):\n",
            "        return sigmoid(self(x))\n",
            "    \n",
            "    def predict(self, x, threshold: float = 0.5):\n",
            "        y_pred_score = self.predict_proba(x)\n",
            "        return (y_pred_score > threshold).to(torch.int32)\n"
         ]
      },
      {
         "cell_type": "markdown",
         "metadata": {
            "id": "rEk9azaULAsz"
         },
         "source": [
            "Opisaliśmy wcześniej podstawowy optymalizator w sieciach neuronowych - spadek wzdłuż gradientu. Jednak wymaga on użycia całego zbioru danych, aby obliczyć gradient, co jest często niewykonalne przez rozmiar zbioru. Dlatego wymyślono **stochastyczny spadek wzdłuż gradientu (stochastic gradient descent, SGD)**, w którym używamy 1 przykładu naraz, liczymy gradient tylko po nim i aktualizujemy parametry. Jest to oczywiście dość grube przybliżenie gradientu, ale pozwala robić szybko dużo małych kroków. Kompromisem, którego używa się w praktyce, jest **minibatch gradient descent**, czyli używanie batchy np. 32, 64 czy 128 przykładów.\n",
            "\n",
            "Rzadko wspominanym, a ważnym faktem jest także to, że stochastyczność metody optymalizacji jest sama w sobie też [metodą regularyzacji](https://arxiv.org/abs/2101.12176), a więc `batch_size` to także hiperparametr.\n",
            "\n",
            "Obecnie najpopularniejszą odmianą SGD jest [Adam](https://arxiv.org/abs/1412.6980), gdyż uczy on szybko sieć oraz daje bardzo dobre wyniki nawet przy niekoniecznie idealnie dobranych hiperparametrach. W PyTorchu najlepiej korzystać z jego implementacji `AdamW`, która jest nieco lepsza niż implementacja `Adam`. Jest to zasadniczo zawsze wybór domyślny przy treningu współczesnych sieci neuronowych.\n",
            "\n",
            "Na razie użyjemy jednak minibatch SGD."
         ]
      },
      {
         "cell_type": "markdown",
         "metadata": {},
         "source": [
            "Poniżej znajduje się implementacja prostej klasy dziedziczącej po `Dataset` - tak w PyTorchu implementuje się własne zbiory danych. Użycie takich klas umożliwia użycie klas ładujących dane (`DataLoader`), które z kolei pozwalają łatwo ładować batche danych. Trzeba w takiej klasie zaimplementować metody:\n",
            "- `__len__` - zwraca ilość punktów w zbiorze\n",
            "- `__getitem__` - zwraca przykład ze zbioru pod danym indeksem oraz jego klasę\n"
         ]
      },
      {
         "cell_type": "code",
         "execution_count": 191,
         "metadata": {},
         "outputs": [],
         "source": [
            "from torch.utils.data import Dataset\n",
            "\n",
            "\n",
            "class MyDataset(Dataset):\n",
            "    def __init__(self, data, y):\n",
            "        super().__init__()\n",
            "        \n",
            "        self.data = data\n",
            "        self.y = y\n",
            "    \n",
            "    def __len__(self):\n",
            "        return self.data.shape[0]\n",
            "    \n",
            "    def __getitem__(self, idx):\n",
            "        return self.data[idx], self.y[idx]\n"
         ]
      },
      {
         "cell_type": "markdown",
         "metadata": {},
         "source": [
            "#### Zadanie 7 (1.5 punktu)\n",
            "\n",
            "Zaimplementuj pętlę treningowo-walidacyjną dla sieci neuronowej. Wykorzystaj podane wartości hiperparametrów do treningu (stała ucząca, prawdopodobieństwo dropoutu, regularyzacja L2, rozmiar batcha, maksymalna liczba epok). Użyj optymalizatora SGD.\n",
            "\n",
            "Dodatkowo zaimplementuj regularyzację przez early stopping. Sprawdzaj co epokę wynik na zbiorze walidacyjnym. Użyj podanej wartości patience, a jako metryki po prostu wartości funkcji kosztu. Może się tutaj przydać zaimplementowana funkcja `evaluate_model()`.\n",
            "\n",
            "Pamiętaj o tym, aby przechowywać najlepszy dotychczasowy wynik walidacyjny oraz najlepszy dotychczasowy model. Zapamiętaj też optymalny próg do klasyfikacji dla najlepszego modelu."
         ]
      },
      {
         "cell_type": "code",
         "execution_count": 192,
         "metadata": {},
         "outputs": [],
         "source": [
            "from copy import deepcopy\n",
            "\n",
            "from torch.utils.data import DataLoader\n",
            "\n",
            "\n",
            "learning_rate = 1e-3\n",
            "dropout_p = 0.5\n",
            "l2_reg = 1e-4\n",
            "batch_size = 128\n",
            "max_epochs = 300\n",
            "\n",
            "early_stopping_patience = 4"
         ]
      },
      {
         "cell_type": "code",
         "execution_count": 193,
         "metadata": {
            "scrolled": true
         },
         "outputs": [
            {
               "name": "stdout",
               "output_type": "stream",
               "text": [
                  "Epoch 0 train loss: 0.6835, eval loss 0.8490087389945984\n",
                  "Epoch 1 train loss: 0.6671, eval loss 0.8411688804626465\n",
                  "Epoch 2 train loss: 0.6446, eval loss 0.8339446187019348\n",
                  "Epoch 3 train loss: 0.6207, eval loss 0.8271979093551636\n",
                  "Epoch 4 train loss: 0.6107, eval loss 0.8209086656570435\n",
                  "Epoch 5 train loss: 0.5997, eval loss 0.8149893879890442\n",
                  "Epoch 6 train loss: 0.5874, eval loss 0.8094151020050049\n",
                  "Epoch 7 train loss: 0.5846, eval loss 0.8042173981666565\n",
                  "Epoch 8 train loss: 0.5675, eval loss 0.7993268370628357\n",
                  "Epoch 9 train loss: 0.5700, eval loss 0.7947494983673096\n",
                  "Epoch 10 train loss: 0.5543, eval loss 0.7904711365699768\n",
                  "Epoch 11 train loss: 0.5465, eval loss 0.786525309085846\n",
                  "Epoch 12 train loss: 0.5475, eval loss 0.782843828201294\n",
                  "Epoch 13 train loss: 0.5431, eval loss 0.7794457674026489\n",
                  "Epoch 14 train loss: 0.5411, eval loss 0.7762574553489685\n",
                  "Epoch 15 train loss: 0.5330, eval loss 0.7733023762702942\n",
                  "Epoch 16 train loss: 0.5262, eval loss 0.7705758213996887\n",
                  "Epoch 17 train loss: 0.5169, eval loss 0.7680830955505371\n",
                  "Epoch 18 train loss: 0.5264, eval loss 0.7657293081283569\n",
                  "Epoch 19 train loss: 0.5089, eval loss 0.7635461688041687\n",
                  "Epoch 20 train loss: 0.5087, eval loss 0.7615035176277161\n",
                  "Epoch 21 train loss: 0.5053, eval loss 0.759576141834259\n",
                  "Epoch 22 train loss: 0.5052, eval loss 0.7577607035636902\n",
                  "Epoch 23 train loss: 0.5044, eval loss 0.7560389637947083\n",
                  "Epoch 24 train loss: 0.5049, eval loss 0.7544112801551819\n",
                  "Epoch 25 train loss: 0.4828, eval loss 0.7528934478759766\n",
                  "Epoch 26 train loss: 0.4882, eval loss 0.751422643661499\n",
                  "Epoch 27 train loss: 0.4968, eval loss 0.7499827742576599\n",
                  "Epoch 28 train loss: 0.4906, eval loss 0.7486385107040405\n",
                  "Epoch 29 train loss: 0.4812, eval loss 0.7472901940345764\n",
                  "Epoch 30 train loss: 0.4764, eval loss 0.7459996342658997\n",
                  "Epoch 31 train loss: 0.4776, eval loss 0.7447580099105835\n",
                  "Epoch 32 train loss: 0.4769, eval loss 0.7435336709022522\n",
                  "Epoch 33 train loss: 0.4600, eval loss 0.7423036694526672\n",
                  "Epoch 34 train loss: 0.4636, eval loss 0.7411478757858276\n",
                  "Epoch 35 train loss: 0.4777, eval loss 0.7400408983230591\n",
                  "Epoch 36 train loss: 0.4669, eval loss 0.7389294505119324\n",
                  "Epoch 37 train loss: 0.4730, eval loss 0.7378730773925781\n",
                  "Epoch 38 train loss: 0.4534, eval loss 0.7368088364601135\n",
                  "Epoch 39 train loss: 0.4679, eval loss 0.73581463098526\n",
                  "Epoch 40 train loss: 0.4447, eval loss 0.7348531484603882\n",
                  "Epoch 41 train loss: 0.4590, eval loss 0.7338864207267761\n",
                  "Epoch 42 train loss: 0.4558, eval loss 0.7328938245773315\n",
                  "Epoch 43 train loss: 0.4466, eval loss 0.7319908738136292\n",
                  "Epoch 44 train loss: 0.4506, eval loss 0.7310283780097961\n",
                  "Epoch 45 train loss: 0.4409, eval loss 0.7301690578460693\n",
                  "Epoch 46 train loss: 0.4376, eval loss 0.7292753458023071\n",
                  "Epoch 47 train loss: 0.4462, eval loss 0.728379487991333\n",
                  "Epoch 48 train loss: 0.4412, eval loss 0.7275269627571106\n",
                  "Epoch 49 train loss: 0.4397, eval loss 0.7267017960548401\n",
                  "Epoch 50 train loss: 0.4404, eval loss 0.7259728312492371\n",
                  "Epoch 51 train loss: 0.4305, eval loss 0.7252018451690674\n",
                  "Epoch 52 train loss: 0.4353, eval loss 0.7244581580162048\n",
                  "Epoch 53 train loss: 0.4361, eval loss 0.7237385511398315\n",
                  "Epoch 54 train loss: 0.4148, eval loss 0.7229840159416199\n",
                  "Epoch 55 train loss: 0.4288, eval loss 0.7223137617111206\n",
                  "Epoch 56 train loss: 0.4180, eval loss 0.7216234803199768\n",
                  "Epoch 57 train loss: 0.4396, eval loss 0.7209644913673401\n",
                  "Epoch 58 train loss: 0.4312, eval loss 0.7203956246376038\n",
                  "Epoch 59 train loss: 0.4416, eval loss 0.7197933197021484\n",
                  "Epoch 60 train loss: 0.4084, eval loss 0.7191930413246155\n",
                  "Epoch 61 train loss: 0.4092, eval loss 0.7185706496238708\n",
                  "Epoch 62 train loss: 0.4016, eval loss 0.7180323600769043\n",
                  "Epoch 63 train loss: 0.4032, eval loss 0.7175657749176025\n",
                  "Epoch 64 train loss: 0.4230, eval loss 0.7170038223266602\n",
                  "Epoch 65 train loss: 0.4076, eval loss 0.7165210843086243\n",
                  "Epoch 66 train loss: 0.4199, eval loss 0.7159525156021118\n",
                  "Epoch 67 train loss: 0.4043, eval loss 0.7154274582862854\n",
                  "Epoch 68 train loss: 0.4186, eval loss 0.7149945497512817\n",
                  "Epoch 69 train loss: 0.4105, eval loss 0.7144322991371155\n",
                  "Epoch 70 train loss: 0.3991, eval loss 0.7139748930931091\n",
                  "Epoch 71 train loss: 0.4197, eval loss 0.7135260105133057\n",
                  "Epoch 72 train loss: 0.4126, eval loss 0.7131032943725586\n",
                  "Epoch 73 train loss: 0.4060, eval loss 0.7126648426055908\n",
                  "Epoch 74 train loss: 0.4209, eval loss 0.7122584581375122\n",
                  "Epoch 75 train loss: 0.4098, eval loss 0.7119667530059814\n",
                  "Epoch 76 train loss: 0.3996, eval loss 0.7115363478660583\n",
                  "Epoch 77 train loss: 0.3984, eval loss 0.7111777663230896\n",
                  "Epoch 78 train loss: 0.3946, eval loss 0.7108343839645386\n",
                  "Epoch 79 train loss: 0.3784, eval loss 0.7104474306106567\n",
                  "Epoch 80 train loss: 0.4158, eval loss 0.7101117968559265\n",
                  "Epoch 81 train loss: 0.3914, eval loss 0.7098255157470703\n",
                  "Epoch 82 train loss: 0.4021, eval loss 0.7094473242759705\n",
                  "Epoch 83 train loss: 0.4065, eval loss 0.7091442346572876\n",
                  "Epoch 84 train loss: 0.4084, eval loss 0.7088176608085632\n",
                  "Epoch 85 train loss: 0.4210, eval loss 0.7085831165313721\n",
                  "Epoch 86 train loss: 0.3693, eval loss 0.7082989811897278\n",
                  "Epoch 87 train loss: 0.4062, eval loss 0.7080483436584473\n",
                  "Epoch 88 train loss: 0.4107, eval loss 0.7078160643577576\n",
                  "Epoch 89 train loss: 0.4073, eval loss 0.7075522541999817\n",
                  "Epoch 90 train loss: 0.3777, eval loss 0.7072622776031494\n",
                  "Epoch 91 train loss: 0.3932, eval loss 0.7070946097373962\n",
                  "Epoch 92 train loss: 0.3765, eval loss 0.7068273425102234\n",
                  "Epoch 93 train loss: 0.4045, eval loss 0.7066042423248291\n",
                  "Epoch 94 train loss: 0.3661, eval loss 0.7064054608345032\n",
                  "Epoch 95 train loss: 0.3858, eval loss 0.7061626315116882\n",
                  "Epoch 96 train loss: 0.3885, eval loss 0.7059666514396667\n",
                  "Epoch 97 train loss: 0.3744, eval loss 0.7057982087135315\n",
                  "Epoch 98 train loss: 0.4145, eval loss 0.7055448293685913\n",
                  "Epoch 99 train loss: 0.3709, eval loss 0.705272912979126\n",
                  "Epoch 100 train loss: 0.4122, eval loss 0.7050396203994751\n",
                  "Epoch 101 train loss: 0.3797, eval loss 0.704845130443573\n",
                  "Epoch 102 train loss: 0.4041, eval loss 0.7046543955802917\n",
                  "Epoch 103 train loss: 0.3936, eval loss 0.7044970393180847\n",
                  "Epoch 104 train loss: 0.3965, eval loss 0.704364001750946\n",
                  "Epoch 105 train loss: 0.3902, eval loss 0.7041404247283936\n",
                  "Epoch 106 train loss: 0.3848, eval loss 0.7040306329727173\n",
                  "Epoch 107 train loss: 0.3776, eval loss 0.7038639783859253\n",
                  "Epoch 108 train loss: 0.3936, eval loss 0.7036691904067993\n",
                  "Epoch 109 train loss: 0.4372, eval loss 0.7034691572189331\n",
                  "Epoch 110 train loss: 0.3982, eval loss 0.7033020853996277\n",
                  "Epoch 111 train loss: 0.3893, eval loss 0.7031789422035217\n",
                  "Epoch 112 train loss: 0.4112, eval loss 0.7031162977218628\n",
                  "Epoch 113 train loss: 0.3852, eval loss 0.7029410004615784\n",
                  "Epoch 114 train loss: 0.4077, eval loss 0.7028520703315735\n",
                  "Epoch 115 train loss: 0.3896, eval loss 0.7026747465133667\n",
                  "Epoch 116 train loss: 0.3617, eval loss 0.7025342583656311\n",
                  "Epoch 117 train loss: 0.3854, eval loss 0.7023970484733582\n",
                  "Epoch 118 train loss: 0.3724, eval loss 0.7022859454154968\n",
                  "Epoch 119 train loss: 0.3721, eval loss 0.7021834850311279\n",
                  "Epoch 120 train loss: 0.3946, eval loss 0.7019999623298645\n",
                  "Epoch 121 train loss: 0.3839, eval loss 0.7018625140190125\n",
                  "Epoch 122 train loss: 0.3820, eval loss 0.7017592191696167\n",
                  "Epoch 123 train loss: 0.3955, eval loss 0.701656699180603\n",
                  "Epoch 124 train loss: 0.3844, eval loss 0.701510488986969\n",
                  "Epoch 125 train loss: 0.3743, eval loss 0.7014833688735962\n",
                  "Epoch 126 train loss: 0.3594, eval loss 0.7013749480247498\n",
                  "Epoch 127 train loss: 0.3657, eval loss 0.7012460231781006\n",
                  "Epoch 128 train loss: 0.3876, eval loss 0.7011553645133972\n",
                  "Epoch 129 train loss: 0.3799, eval loss 0.7009849548339844\n",
                  "Epoch 130 train loss: 0.3747, eval loss 0.7008810639381409\n",
                  "Epoch 131 train loss: 0.3858, eval loss 0.7008137702941895\n",
                  "Epoch 132 train loss: 0.3848, eval loss 0.7006718516349792\n",
                  "Epoch 133 train loss: 0.3800, eval loss 0.7006760239601135\n",
                  "Epoch 134 train loss: 0.3646, eval loss 0.7005727887153625\n",
                  "Epoch 135 train loss: 0.3869, eval loss 0.7004466652870178\n",
                  "Epoch 136 train loss: 0.4080, eval loss 0.7004437446594238\n",
                  "Epoch 137 train loss: 0.4083, eval loss 0.7003646492958069\n",
                  "Epoch 138 train loss: 0.3736, eval loss 0.7002221345901489\n",
                  "Epoch 139 train loss: 0.3947, eval loss 0.7001774311065674\n",
                  "Epoch 140 train loss: 0.3817, eval loss 0.7000709176063538\n",
                  "Epoch 141 train loss: 0.3830, eval loss 0.6999894380569458\n",
                  "Epoch 142 train loss: 0.4015, eval loss 0.6998761892318726\n",
                  "Epoch 143 train loss: 0.3819, eval loss 0.6998049020767212\n",
                  "Epoch 144 train loss: 0.4132, eval loss 0.6996201276779175\n",
                  "Epoch 145 train loss: 0.3677, eval loss 0.6995517611503601\n",
                  "Epoch 146 train loss: 0.3798, eval loss 0.6995071172714233\n",
                  "Epoch 147 train loss: 0.3969, eval loss 0.6994988322257996\n",
                  "Epoch 148 train loss: 0.3667, eval loss 0.6994144916534424\n",
                  "Epoch 149 train loss: 0.3823, eval loss 0.6993242502212524\n",
                  "Epoch 150 train loss: 0.3925, eval loss 0.699235737323761\n",
                  "Epoch 151 train loss: 0.3805, eval loss 0.6991596817970276\n",
                  "Epoch 152 train loss: 0.3808, eval loss 0.6990577578544617\n",
                  "Epoch 153 train loss: 0.3778, eval loss 0.699020504951477\n",
                  "Epoch 154 train loss: 0.3820, eval loss 0.6989533305168152\n",
                  "Epoch 155 train loss: 0.3535, eval loss 0.698874294757843\n",
                  "Epoch 156 train loss: 0.3453, eval loss 0.6988341808319092\n",
                  "Epoch 157 train loss: 0.3833, eval loss 0.6988232731819153\n",
                  "Epoch 158 train loss: 0.3957, eval loss 0.6987131237983704\n",
                  "Epoch 159 train loss: 0.3509, eval loss 0.698607861995697\n",
                  "Epoch 160 train loss: 0.3790, eval loss 0.6985731720924377\n",
                  "Epoch 161 train loss: 0.3490, eval loss 0.6984505653381348\n",
                  "Epoch 162 train loss: 0.3830, eval loss 0.6983673572540283\n",
                  "Epoch 163 train loss: 0.3475, eval loss 0.6983904242515564\n",
                  "Epoch 164 train loss: 0.3563, eval loss 0.6982669830322266\n",
                  "Epoch 165 train loss: 0.3602, eval loss 0.6981831192970276\n",
                  "Epoch 166 train loss: 0.3815, eval loss 0.6981542706489563\n",
                  "Epoch 167 train loss: 0.3672, eval loss 0.6981163620948792\n",
                  "Epoch 168 train loss: 0.3427, eval loss 0.6980299353599548\n",
                  "Epoch 169 train loss: 0.3826, eval loss 0.6980175971984863\n",
                  "Epoch 170 train loss: 0.3621, eval loss 0.6978955864906311\n",
                  "Epoch 171 train loss: 0.3682, eval loss 0.6977899670600891\n",
                  "Epoch 172 train loss: 0.3780, eval loss 0.6976872086524963\n",
                  "Epoch 173 train loss: 0.3921, eval loss 0.6977375149726868\n",
                  "Epoch 174 train loss: 0.3716, eval loss 0.697708010673523\n",
                  "Epoch 175 train loss: 0.4016, eval loss 0.6976678967475891\n",
                  "Epoch 176 train loss: 0.3898, eval loss 0.6975950002670288\n",
                  "Epoch 177 train loss: 0.4214, eval loss 0.6974889636039734\n",
                  "Epoch 178 train loss: 0.3646, eval loss 0.697413980960846\n",
                  "Epoch 179 train loss: 0.3645, eval loss 0.6974547505378723\n",
                  "Epoch 180 train loss: 0.3641, eval loss 0.69739830493927\n",
                  "Epoch 181 train loss: 0.3886, eval loss 0.6972662806510925\n",
                  "Epoch 182 train loss: 0.3834, eval loss 0.6971440315246582\n",
                  "Epoch 183 train loss: 0.3420, eval loss 0.697108268737793\n",
                  "Epoch 184 train loss: 0.3496, eval loss 0.6971089243888855\n",
                  "Epoch 185 train loss: 0.3532, eval loss 0.6970158815383911\n",
                  "Epoch 186 train loss: 0.3599, eval loss 0.6969470977783203\n",
                  "Epoch 187 train loss: 0.3519, eval loss 0.6968468427658081\n",
                  "Epoch 188 train loss: 0.3536, eval loss 0.696731448173523\n",
                  "Epoch 189 train loss: 0.3645, eval loss 0.6967995762825012\n",
                  "Epoch 190 train loss: 0.3463, eval loss 0.6967721581459045\n",
                  "Epoch 191 train loss: 0.3621, eval loss 0.6966661214828491\n",
                  "Epoch 192 train loss: 0.3572, eval loss 0.6966116428375244\n",
                  "Epoch 193 train loss: 0.3734, eval loss 0.6965358853340149\n",
                  "Epoch 194 train loss: 0.3909, eval loss 0.6965367794036865\n",
                  "Epoch 195 train loss: 0.3713, eval loss 0.6965081691741943\n",
                  "Epoch 196 train loss: 0.3825, eval loss 0.6964347958564758\n",
                  "Epoch 197 train loss: 0.3707, eval loss 0.696385383605957\n",
                  "Epoch 198 train loss: 0.3812, eval loss 0.696340024471283\n",
                  "Epoch 199 train loss: 0.3519, eval loss 0.6963187456130981\n",
                  "Epoch 200 train loss: 0.3701, eval loss 0.696238100528717\n",
                  "Epoch 201 train loss: 0.3470, eval loss 0.6961421370506287\n",
                  "Epoch 202 train loss: 0.3806, eval loss 0.6961079239845276\n",
                  "Epoch 203 train loss: 0.3510, eval loss 0.6959910988807678\n",
                  "Epoch 204 train loss: 0.3438, eval loss 0.6959953904151917\n",
                  "Epoch 205 train loss: 0.4054, eval loss 0.6959251165390015\n",
                  "Epoch 206 train loss: 0.3601, eval loss 0.6958771347999573\n",
                  "Epoch 207 train loss: 0.4057, eval loss 0.695866584777832\n",
                  "Epoch 208 train loss: 0.3684, eval loss 0.6958536505699158\n",
                  "Epoch 209 train loss: 0.3818, eval loss 0.6957165002822876\n",
                  "Epoch 210 train loss: 0.3573, eval loss 0.6956566572189331\n",
                  "Epoch 211 train loss: 0.4089, eval loss 0.6956459283828735\n",
                  "Epoch 212 train loss: 0.3638, eval loss 0.6956167817115784\n",
                  "Epoch 213 train loss: 0.3507, eval loss 0.6955726146697998\n",
                  "Epoch 214 train loss: 0.3907, eval loss 0.6955738663673401\n",
                  "Epoch 215 train loss: 0.3636, eval loss 0.6954923272132874\n",
                  "Epoch 216 train loss: 0.3474, eval loss 0.6954888105392456\n",
                  "Epoch 217 train loss: 0.3919, eval loss 0.6954039931297302\n",
                  "Epoch 218 train loss: 0.3862, eval loss 0.695429265499115\n",
                  "Epoch 219 train loss: 0.3708, eval loss 0.6953970789909363\n",
                  "Epoch 220 train loss: 0.3644, eval loss 0.6953609585762024\n",
                  "Epoch 221 train loss: 0.4206, eval loss 0.6953005790710449\n",
                  "Epoch 222 train loss: 0.3851, eval loss 0.6952736377716064\n",
                  "Epoch 223 train loss: 0.3793, eval loss 0.6952383518218994\n",
                  "Epoch 224 train loss: 0.3484, eval loss 0.6951965689659119\n",
                  "Epoch 225 train loss: 0.3770, eval loss 0.6951269507408142\n",
                  "Epoch 226 train loss: 0.3618, eval loss 0.6951112747192383\n",
                  "Epoch 227 train loss: 0.3838, eval loss 0.6950638890266418\n",
                  "Epoch 228 train loss: 0.3446, eval loss 0.6950028538703918\n",
                  "Epoch 229 train loss: 0.3346, eval loss 0.6949830651283264\n",
                  "Epoch 230 train loss: 0.3466, eval loss 0.694901704788208\n",
                  "Epoch 231 train loss: 0.3749, eval loss 0.6948304772377014\n",
                  "Epoch 232 train loss: 0.3809, eval loss 0.6948228478431702\n",
                  "Epoch 233 train loss: 0.4023, eval loss 0.6947939395904541\n",
                  "Epoch 234 train loss: 0.3807, eval loss 0.6947199106216431\n",
                  "Epoch 235 train loss: 0.3728, eval loss 0.6947699785232544\n",
                  "Epoch 236 train loss: 0.3570, eval loss 0.6946809887886047\n",
                  "Epoch 237 train loss: 0.3855, eval loss 0.6947053670883179\n",
                  "Epoch 238 train loss: 0.3851, eval loss 0.6945976614952087\n",
                  "Epoch 239 train loss: 0.3910, eval loss 0.6945269107818604\n",
                  "Epoch 240 train loss: 0.3788, eval loss 0.6944666504859924\n",
                  "Epoch 241 train loss: 0.3664, eval loss 0.6944781541824341\n",
                  "Epoch 242 train loss: 0.3639, eval loss 0.6944653391838074\n",
                  "Epoch 243 train loss: 0.3465, eval loss 0.6944023966789246\n",
                  "Epoch 244 train loss: 0.3698, eval loss 0.6943358182907104\n",
                  "Epoch 245 train loss: 0.3538, eval loss 0.6943398118019104\n",
                  "Epoch 246 train loss: 0.3806, eval loss 0.694327712059021\n",
                  "Epoch 247 train loss: 0.3599, eval loss 0.694316029548645\n",
                  "Epoch 248 train loss: 0.3545, eval loss 0.6942064762115479\n",
                  "Epoch 249 train loss: 0.4025, eval loss 0.6941813230514526\n",
                  "Epoch 250 train loss: 0.3988, eval loss 0.6941416263580322\n",
                  "Epoch 251 train loss: 0.3992, eval loss 0.6941291689872742\n",
                  "Epoch 252 train loss: 0.3671, eval loss 0.6941132545471191\n",
                  "Epoch 253 train loss: 0.3667, eval loss 0.6940547227859497\n",
                  "Epoch 254 train loss: 0.3265, eval loss 0.6940677762031555\n",
                  "Epoch 255 train loss: 0.3765, eval loss 0.6941051483154297\n",
                  "Epoch 256 train loss: 0.3681, eval loss 0.6940029263496399\n",
                  "Epoch 257 train loss: 0.3633, eval loss 0.693993091583252\n",
                  "Epoch 258 train loss: 0.3473, eval loss 0.6939143538475037\n",
                  "Epoch 259 train loss: 0.3811, eval loss 0.6937775611877441\n",
                  "Epoch 260 train loss: 0.3664, eval loss 0.6936967372894287\n",
                  "Epoch 261 train loss: 0.3650, eval loss 0.6937199234962463\n",
                  "Epoch 262 train loss: 0.3698, eval loss 0.6936570405960083\n",
                  "Epoch 263 train loss: 0.3286, eval loss 0.6936590671539307\n",
                  "Epoch 264 train loss: 0.3793, eval loss 0.6937049031257629\n",
                  "Epoch 265 train loss: 0.3383, eval loss 0.6936739683151245\n",
                  "Epoch 266 train loss: 0.3722, eval loss 0.6936164498329163\n",
                  "Epoch 267 train loss: 0.3814, eval loss 0.6935244798660278\n",
                  "Epoch 268 train loss: 0.3785, eval loss 0.6935284733772278\n",
                  "Epoch 269 train loss: 0.3859, eval loss 0.6935756802558899\n",
                  "Epoch 270 train loss: 0.3979, eval loss 0.6934940814971924\n",
                  "Epoch 271 train loss: 0.3885, eval loss 0.6934648752212524\n",
                  "Epoch 272 train loss: 0.3560, eval loss 0.6934125423431396\n",
                  "Epoch 273 train loss: 0.3467, eval loss 0.6933432817459106\n",
                  "Epoch 274 train loss: 0.4082, eval loss 0.6933512091636658\n",
                  "Epoch 275 train loss: 0.3564, eval loss 0.6933044791221619\n",
                  "Epoch 276 train loss: 0.3800, eval loss 0.6932653784751892\n",
                  "Epoch 277 train loss: 0.3517, eval loss 0.6932567358016968\n",
                  "Epoch 278 train loss: 0.3773, eval loss 0.6932086944580078\n",
                  "Epoch 279 train loss: 0.3760, eval loss 0.6931145191192627\n",
                  "Epoch 280 train loss: 0.3383, eval loss 0.693084716796875\n",
                  "Epoch 281 train loss: 0.3775, eval loss 0.6930732727050781\n",
                  "Epoch 282 train loss: 0.3693, eval loss 0.6929958462715149\n",
                  "Epoch 283 train loss: 0.3606, eval loss 0.6930214762687683\n",
                  "Epoch 284 train loss: 0.3553, eval loss 0.6930471062660217\n",
                  "Epoch 285 train loss: 0.3390, eval loss 0.6929865479469299\n",
                  "Epoch 286 train loss: 0.3677, eval loss 0.6929565072059631\n",
                  "Epoch 287 train loss: 0.4089, eval loss 0.6929629445075989\n",
                  "Epoch 288 train loss: 0.3965, eval loss 0.6928462386131287\n",
                  "Epoch 289 train loss: 0.3834, eval loss 0.6928234100341797\n",
                  "Epoch 290 train loss: 0.3320, eval loss 0.6927376389503479\n",
                  "Epoch 291 train loss: 0.3883, eval loss 0.6927595138549805\n",
                  "Epoch 292 train loss: 0.3564, eval loss 0.6928350925445557\n",
                  "Epoch 293 train loss: 0.3403, eval loss 0.6927758455276489\n",
                  "Epoch 294 train loss: 0.3691, eval loss 0.6927337050437927\n",
                  "Epoch 295 train loss: 0.3652, eval loss 0.692701518535614\n",
                  "Epoch 296 train loss: 0.3381, eval loss 0.6926398873329163\n",
                  "Epoch 297 train loss: 0.3638, eval loss 0.6926524639129639\n",
                  "Epoch 298 train loss: 0.3773, eval loss 0.6925843358039856\n",
                  "Epoch 299 train loss: 0.3682, eval loss 0.6926244497299194\n"
               ]
            }
         ],
         "source": [
            "model = RegularizedMLP(\n",
            "    input_size=X_train.shape[1], \n",
            "    dropout_p=dropout_p\n",
            ")\n",
            "optimizer = torch.optim.SGD(\n",
            "    model.parameters(), \n",
            "    lr=learning_rate, \n",
            "    weight_decay=l2_reg\n",
            ")\n",
            "loss_fn = torch.nn.BCEWithLogitsLoss()\n",
            "\n",
            "train_dataset = MyDataset(X_train, y_train)\n",
            "train_dataloader = DataLoader(train_dataset, batch_size=batch_size)\n",
            "\n",
            "steps_without_improvement = 0\n",
            "\n",
            "best_val_loss = np.inf\n",
            "best_model = None\n",
            "best_threshold = None\n",
            "\n",
            "for epoch_num in range(max_epochs):\n",
            "    model.train()\n",
            "    \n",
            "    for X_batch, y_batch in train_dataloader:\n",
            "        y_pred = model(X_batch)\n",
            "        loss = loss_fn(y_pred, y_batch)\n",
            "        loss.backward()\n",
            "        optimizer.step()\n",
            "        optimizer.zero_grad()\n",
            "\n",
            "\n",
            "    valid_metrics = evaluate_model(model, X_valid, y_valid, loss_fn)\n",
            "    if valid_metrics['loss'] < best_val_loss:\n",
            "        best_model = deepcopy(model)\n",
            "        best_val_loss = valid_metrics['loss']\n",
            "        best_threshold = valid_metrics['optimal_threshold']\n",
            "        steps_without_improvement = 0\n",
            "    else:\n",
            "        steps_without_improvement += 1\n",
            "        if steps_without_improvement == early_stopping_patience:\n",
            "            print(f\"Early stopping triggered after {epoch_num} epochs!\")\n",
            "            break\n",
            "    \n",
            "    print(f\"Epoch {epoch_num} train loss: {loss.item():.4f}, eval loss {valid_metrics['loss']}\")\n"
         ]
      },
      {
         "cell_type": "code",
         "execution_count": 194,
         "metadata": {},
         "outputs": [
            {
               "name": "stdout",
               "output_type": "stream",
               "text": [
                  "AUROC: 90.18%\n",
                  "F1: 68.52%\n",
                  "Precision: 61.78%\n",
                  "Recall: 76.91%\n"
               ]
            }
         ],
         "source": [
            "test_metrics = evaluate_model(best_model, X_test, y_test, loss_fn, best_threshold)\n",
            "\n",
            "print(f\"AUROC: {100 * test_metrics['AUROC']:.2f}%\")\n",
            "print(f\"F1: {100 * test_metrics['F1-score']:.2f}%\")\n",
            "print(f\"Precision: {100 * test_metrics['precision']:.2f}%\")\n",
            "print(f\"Recall: {100 * test_metrics['recall']:.2f}%\")"
         ]
      },
      {
         "cell_type": "markdown",
         "metadata": {},
         "source": [
            "Wyniki wyglądają już dużo lepiej.\n",
            "\n",
            "Na koniec laboratorium dołożymy do naszego modelu jeszcze 3 powrzechnie używane techniki, które są bardzo proste, a pozwalają często ulepszyć wynik modelu.\n",
            "\n",
            "Pierwszą z nich są **warstwy normalizacji (normalization layers)**. Powstały one początkowo z założeniem, że przez przekształcenia przestrzeni dokonywane przez sieć zmienia się rozkład prawdopodobieństw pomiędzy warstwami, czyli tzw. *internal covariate shift*. Później okazało się, że zastosowanie takiej normalizacji wygładza powierzchnię funkcji kosztu, co ułatwia i przyspiesza optymalizację. Najpowszechniej używaną normalizacją jest **batch normalization (batch norm)**.\n",
            "\n",
            "Drugim ulepszeniem jest dodanie **wag klas (class weights)**. Mamy do czynienia z problemem klasyfikacji niezbalansowanej, więc klasa mniejszościowa, ważniejsza dla nas, powinna dostać większą wagę. Implementuje się to trywialnie prosto - po prostu mnożymy wartość funkcji kosztu dla danego przykładu przez wagę dla prawdziwej klasy tego przykładu. Praktycznie każdy klasyfikator operujący na jakiejś ważonej funkcji może działać w ten sposób, nie tylko sieci neuronowe.\n",
            "\n",
            "Ostatnim ulepszeniem jest zamiana SGD na optymalizator Adam, a konkretnie na optymalizator `AdamW`. Jest to przykład **optymalizatora adaptacyjnego (adaptive optimizer)**, który potrafi zaadaptować stałą uczącą dla każdego parametru z osobna w trakcie treningu. Wykorzystuje do tego gradienty - w uproszczeniu, im większa wariancja gradientu, tym mniejsze kroki w tym kierunku robimy."
         ]
      },
      {
         "cell_type": "markdown",
         "metadata": {},
         "source": [
            "#### Zadanie 8 (0.5 punktu)\n",
            "\n",
            "Zaimplementuj model `NormalizingMLP`, o takiej samej strukturze jak `RegularizedMLP`, ale dodatkowo z warstwami `BatchNorm1d` pomiędzy warstwami `Linear` oraz `ReLU`.\n",
            "\n",
            "Za pomocą funkcji `compute_class_weight()` oblicz wagi dla poszczególnych klas. Użyj opcji `\"balanced\"`. Przekaż do funkcji kosztu wagę klasy pozytywnej (pamiętaj, aby zamienić ją na tensor).\n",
            "\n",
            "Zamień używany optymalizator na `AdamW`.\n",
            "\n",
            "Na koniec skopiuj resztę kodu do treningu z poprzedniego zadania, wytrenuj sieć i oblicz wyniki na zbiorze testowym."
         ]
      },
      {
         "cell_type": "code",
         "execution_count": 195,
         "metadata": {},
         "outputs": [],
         "source": [
            "class NormalizingMLP(nn.Module):\n",
            "    def __init__(self, input_size: int, dropout_p: float = 0.5):\n",
            "        super().__init__()\n",
            "\n",
            "        self.first_layer = nn.Linear(input_size, 256)\n",
            "        self.second_layer = nn.Linear(256, 128) \n",
            "        self.third_layer = nn.Linear(128, 1)\n",
            "        self.mlp=nn.Sequential(\n",
            "            self.first_layer,\n",
            "            nn.BatchNorm1d(256),\n",
            "            nn.ReLU(),\n",
            "            nn.Dropout(dropout_p),\n",
            "            self.second_layer,\n",
            "            nn.BatchNorm1d(128),\n",
            "            nn.ReLU(),\n",
            "            nn.Dropout(dropout_p),\n",
            "            self.third_layer\n",
            "        )\n",
            "    \n",
            "    def forward(self, x):\n",
            "        return self.mlp(x)\n",
            "\n",
            "    def predict_proba(self, x):\n",
            "        return sigmoid(self(x))\n",
            "    \n",
            "    def predict(self, x, threshold: float = 0.5):\n",
            "        y_pred_score = self.predict_proba(x)\n",
            "        return (y_pred_score > threshold).to(torch.int32)\n"
         ]
      },
      {
         "cell_type": "code",
         "execution_count": 196,
         "metadata": {},
         "outputs": [],
         "source": [
            "# define all the hyperparameters\n",
            "\n",
            "learning_rate = 1e-3\n",
            "dropout_p = 0.5\n",
            "l2_reg = 1e-4\n",
            "batch_size = 128\n",
            "max_epochs = 300\n",
            "\n",
            "early_stopping_patience = 4"
         ]
      },
      {
         "cell_type": "code",
         "execution_count": 197,
         "metadata": {
            "scrolled": true
         },
         "outputs": [
            {
               "name": "stdout",
               "output_type": "stream",
               "text": [
                  "Epoch 0 train loss: 0.5934, eval loss 0.8212921619415283\n",
                  "Epoch 1 train loss: 0.6330, eval loss 0.8176037073135376\n",
                  "Epoch 2 train loss: 0.5682, eval loss 0.8168411254882812\n",
                  "Epoch 3 train loss: 0.6119, eval loss 0.8150761723518372\n",
                  "Epoch 4 train loss: 0.6060, eval loss 0.8134247064590454\n",
                  "Epoch 5 train loss: 0.5514, eval loss 0.8111255764961243\n",
                  "Epoch 6 train loss: 0.5868, eval loss 0.81172776222229\n",
                  "Epoch 7 train loss: 0.5503, eval loss 0.8112285137176514\n",
                  "Epoch 8 train loss: 0.5466, eval loss 0.8113729357719421\n",
                  "Early stopping - epoch 9\n"
               ]
            }
         ],
         "source": [
            "from sklearn.utils.class_weight import compute_class_weight\n",
            "# training loop\n",
            "\n",
            "model = NormalizingMLP(\n",
            "    input_size=X_train.shape[1], \n",
            "    dropout_p=dropout_p\n",
            ")\n",
            "optimizer = torch.optim.AdamW(\n",
            "    model.parameters(), \n",
            "    lr=learning_rate, \n",
            "    weight_decay=l2_reg\n",
            ")\n",
            "\n",
            "train_labels = y_train.numpy().flatten()\n",
            "classes = np.unique(train_labels)\n",
            "class_weights = compute_class_weight(\"balanced\", classes = classes, y = train_labels)\n",
            "positive_class_weights = torch.tensor(class_weights[1], dtype=torch.float32)\n",
            "\n",
            "loss_fn = torch.nn.BCEWithLogitsLoss(pos_weight=positive_class_weights)\n",
            "\n",
            "train_dataset = MyDataset(X_train, y_train)\n",
            "train_dataloader = DataLoader(train_dataset, batch_size=batch_size)\n",
            "\n",
            "\n",
            "steps_without_improvement = 0\n",
            "\n",
            "best_val_loss = np.inf\n",
            "best_model = None\n",
            "best_threshold = None\n",
            "\n",
            "for epoch_num in range(max_epochs):\n",
            "    model.train()\n",
            "\n",
            "    for X_batch, y_batch in train_dataloader:\n",
            "\n",
            "        y_pred = model(X_batch)\n",
            "        loss = loss_fn(y_pred, y_batch)\n",
            "        loss.backward()\n",
            "        optimizer.step()\n",
            "        optimizer.zero_grad()\n",
            "\n",
            "\n",
            "    valid_metrics = evaluate_model(model, X_valid, y_valid, loss_fn)\n",
            "    if valid_metrics['loss'] < best_val_loss:\n",
            "        best_model = deepcopy(model)\n",
            "        best_val_loss = valid_metrics['loss']\n",
            "        best_threshold = valid_metrics['optimal_threshold']\n",
            "        steps_without_improvement = 0\n",
            "    else:\n",
            "        steps_without_improvement += 1\n",
            "        if steps_without_improvement == early_stopping_patience:\n",
            "            print(f\"Early stopping - epoch {epoch_num}\")\n",
            "            break\n",
            "    \n",
            "    \n",
            "    print(f\"Epoch {epoch_num} train loss: {loss.item():.4f}, eval loss {valid_metrics['loss']}\")\n"
         ]
      },
      {
         "cell_type": "code",
         "execution_count": 198,
         "metadata": {
            "scrolled": true
         },
         "outputs": [
            {
               "name": "stdout",
               "output_type": "stream",
               "text": [
                  "AUROC: 90.75%\n",
                  "F1: 69.39%\n",
                  "Precision: 66.00%\n",
                  "Recall: 73.15%\n"
               ]
            }
         ],
         "source": [
            "test_metrics = evaluate_model(best_model, X_test, y_test, loss_fn, best_threshold)\n",
            "\n",
            "print(f\"AUROC: {100 * test_metrics['AUROC']:.2f}%\")\n",
            "print(f\"F1: {100 * test_metrics['F1-score']:.2f}%\")\n",
            "print(f\"Precision: {100 * test_metrics['precision']:.2f}%\")\n",
            "print(f\"Recall: {100 * test_metrics['recall']:.2f}%\")"
         ]
      },
      {
         "cell_type": "markdown",
         "metadata": {
            "id": "XyoRnHT4GFR9"
         },
         "source": [
            "## Akceleracja sprzętowa (dla zainteresowanych)"
         ]
      },
      {
         "cell_type": "markdown",
         "metadata": {},
         "source": [
            "Jak wcześniej wspominaliśmy, użycie akceleracji sprzętowej, czyli po prostu GPU do obliczeń, jest bardzo efektywne w przypadku sieci neuronowych. Karty graficzne bardzo efektywnie mnożą macierze, a sieci neuronowe to, jak można było się przekonać, dużo mnożenia macierzy.\n",
            "\n",
            "W PyTorchu jest to dosyć łatwe, ale trzeba robić to explicite. Służy do tego metoda `.to()`, która przenosi tensory między CPU i GPU. Poniżej przykład, jak to się robi (oczywiście trzeba mieć skonfigurowane GPU, żeby działało):"
         ]
      },
      {
         "cell_type": "code",
         "execution_count": null,
         "metadata": {},
         "outputs": [],
         "source": [
            "import time \n",
            "\n",
            "\n",
            "class CudaMLP(nn.Module):\n",
            "    def __init__(self, input_size: int, dropout_p: float = 0.5):\n",
            "        super().__init__()\n",
            "\n",
            "        self.mlp = nn.Sequential(\n",
            "            nn.Linear(input_size, 512),\n",
            "            nn.BatchNorm1d(512),\n",
            "            nn.ReLU(),\n",
            "            nn.Dropout(dropout_p),\n",
            "            nn.Linear(512, 256),\n",
            "            nn.BatchNorm1d(256),\n",
            "            nn.ReLU(),\n",
            "            nn.Dropout(dropout_p),\n",
            "            nn.Linear(256, 256),\n",
            "            nn.BatchNorm1d(256),\n",
            "            nn.ReLU(),\n",
            "            nn.Dropout(dropout_p),\n",
            "            nn.Linear(256, 128),\n",
            "            nn.BatchNorm1d(128),\n",
            "            nn.ReLU(),\n",
            "            nn.Dropout(dropout_p),\n",
            "            nn.Linear(128, 1),\n",
            "        )\n",
            "    \n",
            "    def forward(self, x):\n",
            "        return self.mlp(x)\n",
            "\n",
            "    def predict_proba(self, x):\n",
            "        return sigmoid(self(x))\n",
            "    \n",
            "    def predict(self, x, threshold: float = 0.5):\n",
            "        y_pred_score = self.predict_proba(x)\n",
            "        return (y_pred_score > threshold).to(torch.int32)\n",
            "\n",
            "\n",
            "model = CudaMLP(X_train.shape[1]).to('cuda')\n",
            "\n",
            "optimizer = torch.optim.AdamW(model.parameters(), lr=learning_rate, weight_decay=1e-4)\n",
            "\n",
            "# note that we are using loss function with sigmoid built in\n",
            "loss_fn = torch.nn.BCEWithLogitsLoss(pos_weight=torch.from_numpy(weights)[1].to('cuda'))\n",
            "\n",
            "step_counter = 0\n",
            "time_from_eval = time.time()\n",
            "for epoch_id in range(30):\n",
            "    for batch_x, batch_y in train_dataloader:\n",
            "        batch_x = batch_x.to('cuda')\n",
            "        batch_y = batch_y.to('cuda')\n",
            "        \n",
            "        loss = loss_fn(model(batch_x), batch_y)\n",
            "        loss.backward()\n",
            "\n",
            "        optimizer.step()\n",
            "        optimizer.zero_grad()\n",
            "        \n",
            "        if step_counter % evaluation_steps == 0:\n",
            "            print(f\"Epoch {epoch_id} train loss: {loss.item():.4f}, time: {time.time() - time_from_eval}\")\n",
            "            time_from_eval = time.time()\n",
            "\n",
            "        step_counter += 1\n",
            "\n",
            "test_res = evaluate_model(model.to('cpu'), X_test, y_test, loss_fn.to('cpu'), threshold=0.5)\n",
            "\n",
            "print(f\"AUROC: {100 * test_res['AUROC']:.2f}%\")\n",
            "print(f\"F1: {100 * test_res['F1-score']:.2f}%\")\n",
            "print(test_res)"
         ]
      },
      {
         "cell_type": "markdown",
         "metadata": {},
         "source": [
            "Co prawda ten model nie będzie tak dobry jak ten z laboratorium, ale zwróć uwagę, o ile jest większy, a przy tym szybszy.\n",
            "\n",
            "Dla zainteresowanych polecamy [tę serie artykułów](https://medium.com/@adi.fu7/ai-accelerators-part-i-intro-822c2cdb4ca4)"
         ]
      },
      {
         "cell_type": "markdown",
         "metadata": {},
         "source": [
            "## Zadanie dla chętnych"
         ]
      },
      {
         "cell_type": "markdown",
         "metadata": {},
         "source": [
            "Jak widzieliśmy, sieci neuronowe mają bardzo dużo hiperparametrów. Przeszukiwanie ich grid search'em jest więc niewykonalne, a chociaż random search by działał, to potrzebowałby wielu iteracji, co też jest kosztowne obliczeniowo.\n",
            "\n",
            "Zaimplementuj inteligentne przeszukiwanie przestrzeni hiperparametrów za pomocą biblioteki [Optuna](https://optuna.org/). Implementuje ona między innymi algorytm Tree Parzen Estimator (TPE), należący do grupy algorytmów typu Bayesian search. Typowo osiągają one bardzo dobre wyniki, a właściwie zawsze lepsze od przeszukiwania losowego. Do tego wystarcza im często niewielka liczba kroków.\n",
            "\n",
            "Zaimplementuj 3-warstwową sieć MLP, gdzie pierwsza warstwa ma rozmiar ukryty N, a druga N // 2. Ucz ją optymalizatorem Adam przez maksymalnie 300 epok z cierpliwością 10.\n",
            "\n",
            "Przeszukaj wybrane zakresy dla hiperparametrów:\n",
            "- rozmiar warstw ukrytych (N)\n",
            "- stała ucząca\n",
            "- batch size\n",
            "- siła regularyzacji L2\n",
            "- prawdopodobieństwo dropoutu\n",
            "\n",
            "Wykorzystaj przynajmniej 30 iteracji. Następnie przełącz algorytm na losowy (Optuna także jego implementuje), wykonaj 30 iteracji i porównaj jakość wyników.\n",
            "\n",
            "Przydatne materiały:\n",
            "- [Optuna code examples - PyTorch](https://optuna.org/#code_examples)\n",
            "- [Auto-Tuning Hyperparameters with Optuna and PyTorch](https://www.youtube.com/watch?v=P6NwZVl8ttc)\n",
            "- [Hyperparameter Tuning of Neural Networks with Optuna and PyTorch](https://towardsdatascience.com/hyperparameter-tuning-of-neural-networks-with-optuna-and-pytorch-22e179efc837)\n",
            "- [Using Optuna to Optimize PyTorch Hyperparameters](https://medium.com/pytorch/using-optuna-to-optimize-pytorch-hyperparameters-990607385e36)"
         ]
      },
      {
         "cell_type": "code",
         "execution_count": null,
         "metadata": {},
         "outputs": [],
         "source": []
      }
   ],
   "metadata": {
      "colab": {
         "collapsed_sections": [],
         "provenance": []
      },
      "kernelspec": {
         "display_name": "Python 3 (ipykernel)",
         "language": "python",
         "name": "python3"
      },
      "language_info": {
         "codemirror_mode": {
            "name": "ipython",
            "version": 3
         },
         "file_extension": ".py",
         "mimetype": "text/x-python",
         "name": "python",
         "nbconvert_exporter": "python",
         "pygments_lexer": "ipython3",
         "version": "3.10.11"
      },
      "vscode": {
         "interpreter": {
            "hash": "a5d7af91182035c53be6efb3f9b18ffc3e259c9c524705249407647c970de949"
         }
      }
   },
   "nbformat": 4,
   "nbformat_minor": 1
}
